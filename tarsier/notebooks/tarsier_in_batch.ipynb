{
 "cells": [
  {
   "cell_type": "code",
   "execution_count": 5,
   "id": "2ef90c80",
   "metadata": {},
   "outputs": [],
   "source": [
    "%%capture\n",
    "!pip install wikidataintegrator\n",
    "from wikidataintegrator import wdi_core"
   ]
  },
  {
   "cell_type": "markdown",
   "id": "9267e0ec",
   "metadata": {},
   "source": [
    "# SPARQL query\n",
    "Adapt the sparql query to fetch a sub branch of the taxonomic tree. In the example below, the query fetches all species in the shark branch (wd:Q7372) from wikidata and checks for those species where the english wikipedia article that describes the species lacks an image."
   ]
  },
  {
   "cell_type": "code",
   "execution_count": 10,
   "id": "3140c693",
   "metadata": {},
   "outputs": [
    {
     "data": {
      "text/html": [
       "<div>\n",
       "<style scoped>\n",
       "    .dataframe tbody tr th:only-of-type {\n",
       "        vertical-align: middle;\n",
       "    }\n",
       "\n",
       "    .dataframe tbody tr th {\n",
       "        vertical-align: top;\n",
       "    }\n",
       "\n",
       "    .dataframe thead th {\n",
       "        text-align: right;\n",
       "    }\n",
       "</style>\n",
       "<table border=\"1\" class=\"dataframe\">\n",
       "  <thead>\n",
       "    <tr style=\"text-align: right;\">\n",
       "      <th></th>\n",
       "      <th>item</th>\n",
       "      <th>taxonname</th>\n",
       "      <th>article</th>\n",
       "      <th>tarsier</th>\n",
       "    </tr>\n",
       "  </thead>\n",
       "  <tbody>\n",
       "    <tr>\n",
       "      <th>0</th>\n",
       "      <td>http://www.wikidata.org/entity/Q141374</td>\n",
       "      <td>Etmopterus baxteri</td>\n",
       "      <td>https://en.wikipedia.org/wiki/New_Zealand_lant...</td>\n",
       "      <td>https://andrawaag.github.io/tarsier/jupyter_li...</td>\n",
       "    </tr>\n",
       "    <tr>\n",
       "      <th>1</th>\n",
       "      <td>http://www.wikidata.org/entity/Q145344</td>\n",
       "      <td>Etmopterus dianthus</td>\n",
       "      <td>https://en.wikipedia.org/wiki/Pink_lanternshark</td>\n",
       "      <td>https://andrawaag.github.io/tarsier/jupyter_li...</td>\n",
       "    </tr>\n",
       "    <tr>\n",
       "      <th>2</th>\n",
       "      <td>http://www.wikidata.org/entity/Q145690</td>\n",
       "      <td>Etmopterus dislineatus</td>\n",
       "      <td>https://en.wikipedia.org/wiki/Etmopterus_disli...</td>\n",
       "      <td>https://andrawaag.github.io/tarsier/jupyter_li...</td>\n",
       "    </tr>\n",
       "    <tr>\n",
       "      <th>3</th>\n",
       "      <td>http://www.wikidata.org/entity/Q147182</td>\n",
       "      <td>Etmopterus fusus</td>\n",
       "      <td>https://en.wikipedia.org/wiki/Pygmy_lanternshark</td>\n",
       "      <td>https://andrawaag.github.io/tarsier/jupyter_li...</td>\n",
       "    </tr>\n",
       "    <tr>\n",
       "      <th>4</th>\n",
       "      <td>http://www.wikidata.org/entity/Q147167</td>\n",
       "      <td>Etmopterus evansi</td>\n",
       "      <td>https://en.wikipedia.org/wiki/Blackmouth_lante...</td>\n",
       "      <td>https://andrawaag.github.io/tarsier/jupyter_li...</td>\n",
       "    </tr>\n",
       "    <tr>\n",
       "      <th>...</th>\n",
       "      <td>...</td>\n",
       "      <td>...</td>\n",
       "      <td>...</td>\n",
       "      <td>...</td>\n",
       "    </tr>\n",
       "    <tr>\n",
       "      <th>197</th>\n",
       "      <td>http://www.wikidata.org/entity/Q2420876</td>\n",
       "      <td>Apristurus kampae</td>\n",
       "      <td>https://en.wikipedia.org/wiki/Longnose_catshark</td>\n",
       "      <td>https://andrawaag.github.io/tarsier/jupyter_li...</td>\n",
       "    </tr>\n",
       "    <tr>\n",
       "      <th>198</th>\n",
       "      <td>http://www.wikidata.org/entity/Q2510318</td>\n",
       "      <td>Apristurus riveri</td>\n",
       "      <td>https://en.wikipedia.org/wiki/Broadgill_catshark</td>\n",
       "      <td>https://andrawaag.github.io/tarsier/jupyter_li...</td>\n",
       "    </tr>\n",
       "    <tr>\n",
       "      <th>199</th>\n",
       "      <td>http://www.wikidata.org/entity/Q2510327</td>\n",
       "      <td>Apristurus herklotsi</td>\n",
       "      <td>https://en.wikipedia.org/wiki/Longfin_catshark</td>\n",
       "      <td>https://andrawaag.github.io/tarsier/jupyter_li...</td>\n",
       "    </tr>\n",
       "    <tr>\n",
       "      <th>200</th>\n",
       "      <td>http://www.wikidata.org/entity/Q2625944</td>\n",
       "      <td>Scyliorhinus cervigoni</td>\n",
       "      <td>https://en.wikipedia.org/wiki/West_African_cat...</td>\n",
       "      <td>https://andrawaag.github.io/tarsier/jupyter_li...</td>\n",
       "    </tr>\n",
       "    <tr>\n",
       "      <th>201</th>\n",
       "      <td>http://www.wikidata.org/entity/Q2716617</td>\n",
       "      <td>Parmaturus campechiensis</td>\n",
       "      <td>https://en.wikipedia.org/wiki/Campeche_catshark</td>\n",
       "      <td>https://andrawaag.github.io/tarsier/jupyter_li...</td>\n",
       "    </tr>\n",
       "  </tbody>\n",
       "</table>\n",
       "<p>202 rows × 4 columns</p>\n",
       "</div>"
      ],
      "text/plain": [
       "                                        item                 taxonname  \\\n",
       "0     http://www.wikidata.org/entity/Q141374        Etmopterus baxteri   \n",
       "1     http://www.wikidata.org/entity/Q145344       Etmopterus dianthus   \n",
       "2     http://www.wikidata.org/entity/Q145690    Etmopterus dislineatus   \n",
       "3     http://www.wikidata.org/entity/Q147182          Etmopterus fusus   \n",
       "4     http://www.wikidata.org/entity/Q147167         Etmopterus evansi   \n",
       "..                                       ...                       ...   \n",
       "197  http://www.wikidata.org/entity/Q2420876         Apristurus kampae   \n",
       "198  http://www.wikidata.org/entity/Q2510318         Apristurus riveri   \n",
       "199  http://www.wikidata.org/entity/Q2510327      Apristurus herklotsi   \n",
       "200  http://www.wikidata.org/entity/Q2625944    Scyliorhinus cervigoni   \n",
       "201  http://www.wikidata.org/entity/Q2716617  Parmaturus campechiensis   \n",
       "\n",
       "                                               article  \\\n",
       "0    https://en.wikipedia.org/wiki/New_Zealand_lant...   \n",
       "1      https://en.wikipedia.org/wiki/Pink_lanternshark   \n",
       "2    https://en.wikipedia.org/wiki/Etmopterus_disli...   \n",
       "3     https://en.wikipedia.org/wiki/Pygmy_lanternshark   \n",
       "4    https://en.wikipedia.org/wiki/Blackmouth_lante...   \n",
       "..                                                 ...   \n",
       "197    https://en.wikipedia.org/wiki/Longnose_catshark   \n",
       "198   https://en.wikipedia.org/wiki/Broadgill_catshark   \n",
       "199     https://en.wikipedia.org/wiki/Longfin_catshark   \n",
       "200  https://en.wikipedia.org/wiki/West_African_cat...   \n",
       "201    https://en.wikipedia.org/wiki/Campeche_catshark   \n",
       "\n",
       "                                               tarsier  \n",
       "0    https://andrawaag.github.io/tarsier/jupyter_li...  \n",
       "1    https://andrawaag.github.io/tarsier/jupyter_li...  \n",
       "2    https://andrawaag.github.io/tarsier/jupyter_li...  \n",
       "3    https://andrawaag.github.io/tarsier/jupyter_li...  \n",
       "4    https://andrawaag.github.io/tarsier/jupyter_li...  \n",
       "..                                                 ...  \n",
       "197  https://andrawaag.github.io/tarsier/jupyter_li...  \n",
       "198  https://andrawaag.github.io/tarsier/jupyter_li...  \n",
       "199  https://andrawaag.github.io/tarsier/jupyter_li...  \n",
       "200  https://andrawaag.github.io/tarsier/jupyter_li...  \n",
       "201  https://andrawaag.github.io/tarsier/jupyter_li...  \n",
       "\n",
       "[202 rows x 4 columns]"
      ]
     },
     "execution_count": 10,
     "metadata": {},
     "output_type": "execute_result"
    }
   ],
   "source": [
    "query = \"\"\"\n",
    "SELECT * WHERE {\n",
    "   ?item wdt:P31 wd:Q16521 ;\n",
    "         wdt:P171* wd:Q7372 ;\n",
    "         wdt:P225 ?taxonname ;\n",
    "         wdt:P105 wd:Q7432 .\n",
    "  FILTER NOT EXISTS {?item wdt:P18 ?image .} \n",
    "  ?article schema:about ?item ;\n",
    "            schema:isPartOf <https://en.wikipedia.org/> ;\n",
    "            schema:inLanguage \"en\" .\n",
    "  BIND (URI(CONCAT(\"https://andrawaag.github.io/tarsier/jupyter_link.html?name=\", ?taxonname)) as ?tarsier)\n",
    "}\n",
    "\"\"\"\n",
    "df = wdi_core.WDFunctionsEngine.execute_sparql_query(query, as_dataframe=True)\n",
    "df"
   ]
  },
  {
   "cell_type": "markdown",
   "id": "ec54e966",
   "metadata": {},
   "source": [
    "# fetch potential images to transfer to commons\n",
    "The script below fetches the tarsier results for all rows returned from the previous sparql query. Only a species name means there aren't any. A list with institutes, means that those have images related to the species. Right click on the institutes and open in a separate tab. "
   ]
  },
  {
   "cell_type": "code",
   "execution_count": 11,
   "id": "1bc32bab",
   "metadata": {},
   "outputs": [
    {
     "name": "stdout",
     "output_type": "stream",
     "text": [
      "Etmopterus baxteri https://andrawaag.github.io/tarsier/jupyter_link.html?name=Etmopterus baxteri\n"
     ]
    },
    {
     "data": {
      "text/html": [
       "\n",
       "        <iframe\n",
       "            width=\"700\"\n",
       "            height=\"auto\"\n",
       "            src=\"https://andrawaag.github.io/tarsier/jupyter_link.html?name=Etmopterus baxteri\"\n",
       "            frameborder=\"0\"\n",
       "            allowfullscreen\n",
       "            \n",
       "        ></iframe>\n",
       "        "
      ],
      "text/plain": [
       "<IPython.lib.display.IFrame at 0x7f593d027c70>"
      ]
     },
     "metadata": {},
     "output_type": "display_data"
    },
    {
     "name": "stdout",
     "output_type": "stream",
     "text": [
      "Etmopterus dianthus https://andrawaag.github.io/tarsier/jupyter_link.html?name=Etmopterus dianthus\n"
     ]
    },
    {
     "data": {
      "text/html": [
       "\n",
       "        <iframe\n",
       "            width=\"700\"\n",
       "            height=\"auto\"\n",
       "            src=\"https://andrawaag.github.io/tarsier/jupyter_link.html?name=Etmopterus dianthus\"\n",
       "            frameborder=\"0\"\n",
       "            allowfullscreen\n",
       "            \n",
       "        ></iframe>\n",
       "        "
      ],
      "text/plain": [
       "<IPython.lib.display.IFrame at 0x7f59202c7f70>"
      ]
     },
     "metadata": {},
     "output_type": "display_data"
    },
    {
     "name": "stdout",
     "output_type": "stream",
     "text": [
      "Etmopterus dislineatus https://andrawaag.github.io/tarsier/jupyter_link.html?name=Etmopterus dislineatus\n"
     ]
    },
    {
     "data": {
      "text/html": [
       "\n",
       "        <iframe\n",
       "            width=\"700\"\n",
       "            height=\"auto\"\n",
       "            src=\"https://andrawaag.github.io/tarsier/jupyter_link.html?name=Etmopterus dislineatus\"\n",
       "            frameborder=\"0\"\n",
       "            allowfullscreen\n",
       "            \n",
       "        ></iframe>\n",
       "        "
      ],
      "text/plain": [
       "<IPython.lib.display.IFrame at 0x7f59202c7f70>"
      ]
     },
     "metadata": {},
     "output_type": "display_data"
    },
    {
     "name": "stdout",
     "output_type": "stream",
     "text": [
      "Etmopterus fusus https://andrawaag.github.io/tarsier/jupyter_link.html?name=Etmopterus fusus\n"
     ]
    },
    {
     "data": {
      "text/html": [
       "\n",
       "        <iframe\n",
       "            width=\"700\"\n",
       "            height=\"auto\"\n",
       "            src=\"https://andrawaag.github.io/tarsier/jupyter_link.html?name=Etmopterus fusus\"\n",
       "            frameborder=\"0\"\n",
       "            allowfullscreen\n",
       "            \n",
       "        ></iframe>\n",
       "        "
      ],
      "text/plain": [
       "<IPython.lib.display.IFrame at 0x7f59202c7af0>"
      ]
     },
     "metadata": {},
     "output_type": "display_data"
    },
    {
     "name": "stdout",
     "output_type": "stream",
     "text": [
      "Etmopterus evansi https://andrawaag.github.io/tarsier/jupyter_link.html?name=Etmopterus evansi\n"
     ]
    },
    {
     "data": {
      "text/html": [
       "\n",
       "        <iframe\n",
       "            width=\"700\"\n",
       "            height=\"auto\"\n",
       "            src=\"https://andrawaag.github.io/tarsier/jupyter_link.html?name=Etmopterus evansi\"\n",
       "            frameborder=\"0\"\n",
       "            allowfullscreen\n",
       "            \n",
       "        ></iframe>\n",
       "        "
      ],
      "text/plain": [
       "<IPython.lib.display.IFrame at 0x7f59202c7610>"
      ]
     },
     "metadata": {},
     "output_type": "display_data"
    },
    {
     "name": "stdout",
     "output_type": "stream",
     "text": [
      "Heterodontus omanensis https://andrawaag.github.io/tarsier/jupyter_link.html?name=Heterodontus omanensis\n"
     ]
    },
    {
     "data": {
      "text/html": [
       "\n",
       "        <iframe\n",
       "            width=\"700\"\n",
       "            height=\"auto\"\n",
       "            src=\"https://andrawaag.github.io/tarsier/jupyter_link.html?name=Heterodontus omanensis\"\n",
       "            frameborder=\"0\"\n",
       "            allowfullscreen\n",
       "            \n",
       "        ></iframe>\n",
       "        "
      ],
      "text/plain": [
       "<IPython.lib.display.IFrame at 0x7f59202c7fd0>"
      ]
     },
     "metadata": {},
     "output_type": "display_data"
    },
    {
     "name": "stdout",
     "output_type": "stream",
     "text": [
      "Proscyllium venustum https://andrawaag.github.io/tarsier/jupyter_link.html?name=Proscyllium venustum\n"
     ]
    },
    {
     "data": {
      "text/html": [
       "\n",
       "        <iframe\n",
       "            width=\"700\"\n",
       "            height=\"auto\"\n",
       "            src=\"https://andrawaag.github.io/tarsier/jupyter_link.html?name=Proscyllium venustum\"\n",
       "            frameborder=\"0\"\n",
       "            allowfullscreen\n",
       "            \n",
       "        ></iframe>\n",
       "        "
      ],
      "text/plain": [
       "<IPython.lib.display.IFrame at 0x7f59202c74c0>"
      ]
     },
     "metadata": {},
     "output_type": "display_data"
    },
    {
     "name": "stdout",
     "output_type": "stream",
     "text": [
      "Euprotomicroides zantedeschia https://andrawaag.github.io/tarsier/jupyter_link.html?name=Euprotomicroides zantedeschia\n"
     ]
    },
    {
     "data": {
      "text/html": [
       "\n",
       "        <iframe\n",
       "            width=\"700\"\n",
       "            height=\"auto\"\n",
       "            src=\"https://andrawaag.github.io/tarsier/jupyter_link.html?name=Euprotomicroides zantedeschia\"\n",
       "            frameborder=\"0\"\n",
       "            allowfullscreen\n",
       "            \n",
       "        ></iframe>\n",
       "        "
      ],
      "text/plain": [
       "<IPython.lib.display.IFrame at 0x7f59202c7af0>"
      ]
     },
     "metadata": {},
     "output_type": "display_data"
    },
    {
     "name": "stdout",
     "output_type": "stream",
     "text": [
      "Galeus piperatus https://andrawaag.github.io/tarsier/jupyter_link.html?name=Galeus piperatus\n"
     ]
    },
    {
     "data": {
      "text/html": [
       "\n",
       "        <iframe\n",
       "            width=\"700\"\n",
       "            height=\"auto\"\n",
       "            src=\"https://andrawaag.github.io/tarsier/jupyter_link.html?name=Galeus piperatus\"\n",
       "            frameborder=\"0\"\n",
       "            allowfullscreen\n",
       "            \n",
       "        ></iframe>\n",
       "        "
      ],
      "text/plain": [
       "<IPython.lib.display.IFrame at 0x7f59202c7610>"
      ]
     },
     "metadata": {},
     "output_type": "display_data"
    },
    {
     "name": "stdout",
     "output_type": "stream",
     "text": [
      "Glyphis fowlerae https://andrawaag.github.io/tarsier/jupyter_link.html?name=Glyphis fowlerae\n"
     ]
    },
    {
     "data": {
      "text/html": [
       "\n",
       "        <iframe\n",
       "            width=\"700\"\n",
       "            height=\"auto\"\n",
       "            src=\"https://andrawaag.github.io/tarsier/jupyter_link.html?name=Glyphis fowlerae\"\n",
       "            frameborder=\"0\"\n",
       "            allowfullscreen\n",
       "            \n",
       "        ></iframe>\n",
       "        "
      ],
      "text/plain": [
       "<IPython.lib.display.IFrame at 0x7f59202c7fd0>"
      ]
     },
     "metadata": {},
     "output_type": "display_data"
    },
    {
     "name": "stdout",
     "output_type": "stream",
     "text": [
      "Proscyllium magnificum https://andrawaag.github.io/tarsier/jupyter_link.html?name=Proscyllium magnificum\n"
     ]
    },
    {
     "data": {
      "text/html": [
       "\n",
       "        <iframe\n",
       "            width=\"700\"\n",
       "            height=\"auto\"\n",
       "            src=\"https://andrawaag.github.io/tarsier/jupyter_link.html?name=Proscyllium magnificum\"\n",
       "            frameborder=\"0\"\n",
       "            allowfullscreen\n",
       "            \n",
       "        ></iframe>\n",
       "        "
      ],
      "text/plain": [
       "<IPython.lib.display.IFrame at 0x7f59202c7a00>"
      ]
     },
     "metadata": {},
     "output_type": "display_data"
    },
    {
     "name": "stdout",
     "output_type": "stream",
     "text": [
      "Eridacnis sinuans https://andrawaag.github.io/tarsier/jupyter_link.html?name=Eridacnis sinuans\n"
     ]
    },
    {
     "data": {
      "text/html": [
       "\n",
       "        <iframe\n",
       "            width=\"700\"\n",
       "            height=\"auto\"\n",
       "            src=\"https://andrawaag.github.io/tarsier/jupyter_link.html?name=Eridacnis sinuans\"\n",
       "            frameborder=\"0\"\n",
       "            allowfullscreen\n",
       "            \n",
       "        ></iframe>\n",
       "        "
      ],
      "text/plain": [
       "<IPython.lib.display.IFrame at 0x7f59202c7640>"
      ]
     },
     "metadata": {},
     "output_type": "display_data"
    },
    {
     "name": "stdout",
     "output_type": "stream",
     "text": [
      "Apristurus canutus https://andrawaag.github.io/tarsier/jupyter_link.html?name=Apristurus canutus\n"
     ]
    },
    {
     "data": {
      "text/html": [
       "\n",
       "        <iframe\n",
       "            width=\"700\"\n",
       "            height=\"auto\"\n",
       "            src=\"https://andrawaag.github.io/tarsier/jupyter_link.html?name=Apristurus canutus\"\n",
       "            frameborder=\"0\"\n",
       "            allowfullscreen\n",
       "            \n",
       "        ></iframe>\n",
       "        "
      ],
      "text/plain": [
       "<IPython.lib.display.IFrame at 0x7f59202c7310>"
      ]
     },
     "metadata": {},
     "output_type": "display_data"
    },
    {
     "name": "stdout",
     "output_type": "stream",
     "text": [
      "Proscyllium habereri https://andrawaag.github.io/tarsier/jupyter_link.html?name=Proscyllium habereri\n"
     ]
    },
    {
     "data": {
      "text/html": [
       "\n",
       "        <iframe\n",
       "            width=\"700\"\n",
       "            height=\"auto\"\n",
       "            src=\"https://andrawaag.github.io/tarsier/jupyter_link.html?name=Proscyllium habereri\"\n",
       "            frameborder=\"0\"\n",
       "            allowfullscreen\n",
       "            \n",
       "        ></iframe>\n",
       "        "
      ],
      "text/plain": [
       "<IPython.lib.display.IFrame at 0x7f59202c74c0>"
      ]
     },
     "metadata": {},
     "output_type": "display_data"
    },
    {
     "name": "stdout",
     "output_type": "stream",
     "text": [
      "Figaro striatus https://andrawaag.github.io/tarsier/jupyter_link.html?name=Figaro striatus\n"
     ]
    },
    {
     "data": {
      "text/html": [
       "\n",
       "        <iframe\n",
       "            width=\"700\"\n",
       "            height=\"auto\"\n",
       "            src=\"https://andrawaag.github.io/tarsier/jupyter_link.html?name=Figaro striatus\"\n",
       "            frameborder=\"0\"\n",
       "            allowfullscreen\n",
       "            \n",
       "        ></iframe>\n",
       "        "
      ],
      "text/plain": [
       "<IPython.lib.display.IFrame at 0x7f59202c7640>"
      ]
     },
     "metadata": {},
     "output_type": "display_data"
    },
    {
     "name": "stdout",
     "output_type": "stream",
     "text": [
      "Centroscyllium excelsum https://andrawaag.github.io/tarsier/jupyter_link.html?name=Centroscyllium excelsum\n"
     ]
    },
    {
     "data": {
      "text/html": [
       "\n",
       "        <iframe\n",
       "            width=\"700\"\n",
       "            height=\"auto\"\n",
       "            src=\"https://andrawaag.github.io/tarsier/jupyter_link.html?name=Centroscyllium excelsum\"\n",
       "            frameborder=\"0\"\n",
       "            allowfullscreen\n",
       "            \n",
       "        ></iframe>\n",
       "        "
      ],
      "text/plain": [
       "<IPython.lib.display.IFrame at 0x7f59202c7fd0>"
      ]
     },
     "metadata": {},
     "output_type": "display_data"
    },
    {
     "name": "stdout",
     "output_type": "stream",
     "text": [
      "Squalus rancureli https://andrawaag.github.io/tarsier/jupyter_link.html?name=Squalus rancureli\n"
     ]
    },
    {
     "data": {
      "text/html": [
       "\n",
       "        <iframe\n",
       "            width=\"700\"\n",
       "            height=\"auto\"\n",
       "            src=\"https://andrawaag.github.io/tarsier/jupyter_link.html?name=Squalus rancureli\"\n",
       "            frameborder=\"0\"\n",
       "            allowfullscreen\n",
       "            \n",
       "        ></iframe>\n",
       "        "
      ],
      "text/plain": [
       "<IPython.lib.display.IFrame at 0x7f59202c7310>"
      ]
     },
     "metadata": {},
     "output_type": "display_data"
    },
    {
     "name": "stdout",
     "output_type": "stream",
     "text": [
      "Etmopterus splendidus https://andrawaag.github.io/tarsier/jupyter_link.html?name=Etmopterus splendidus\n"
     ]
    },
    {
     "data": {
      "text/html": [
       "\n",
       "        <iframe\n",
       "            width=\"700\"\n",
       "            height=\"auto\"\n",
       "            src=\"https://andrawaag.github.io/tarsier/jupyter_link.html?name=Etmopterus splendidus\"\n",
       "            frameborder=\"0\"\n",
       "            allowfullscreen\n",
       "            \n",
       "        ></iframe>\n",
       "        "
      ],
      "text/plain": [
       "<IPython.lib.display.IFrame at 0x7f59202c7610>"
      ]
     },
     "metadata": {},
     "output_type": "display_data"
    },
    {
     "name": "stdout",
     "output_type": "stream",
     "text": [
      "Gollum suluensis https://andrawaag.github.io/tarsier/jupyter_link.html?name=Gollum suluensis\n"
     ]
    },
    {
     "data": {
      "text/html": [
       "\n",
       "        <iframe\n",
       "            width=\"700\"\n",
       "            height=\"auto\"\n",
       "            src=\"https://andrawaag.github.io/tarsier/jupyter_link.html?name=Gollum suluensis\"\n",
       "            frameborder=\"0\"\n",
       "            allowfullscreen\n",
       "            \n",
       "        ></iframe>\n",
       "        "
      ],
      "text/plain": [
       "<IPython.lib.display.IFrame at 0x7f59202c7cd0>"
      ]
     },
     "metadata": {},
     "output_type": "display_data"
    },
    {
     "name": "stdout",
     "output_type": "stream",
     "text": [
      "Carcharhinus tjutjot https://andrawaag.github.io/tarsier/jupyter_link.html?name=Carcharhinus tjutjot\n"
     ]
    },
    {
     "data": {
      "text/html": [
       "\n",
       "        <iframe\n",
       "            width=\"700\"\n",
       "            height=\"auto\"\n",
       "            src=\"https://andrawaag.github.io/tarsier/jupyter_link.html?name=Carcharhinus tjutjot\"\n",
       "            frameborder=\"0\"\n",
       "            allowfullscreen\n",
       "            \n",
       "        ></iframe>\n",
       "        "
      ],
      "text/plain": [
       "<IPython.lib.display.IFrame at 0x7f59202c7310>"
      ]
     },
     "metadata": {},
     "output_type": "display_data"
    },
    {
     "name": "stdout",
     "output_type": "stream",
     "text": [
      "Etmopterus pycnolepis https://andrawaag.github.io/tarsier/jupyter_link.html?name=Etmopterus pycnolepis\n"
     ]
    },
    {
     "data": {
      "text/html": [
       "\n",
       "        <iframe\n",
       "            width=\"700\"\n",
       "            height=\"auto\"\n",
       "            src=\"https://andrawaag.github.io/tarsier/jupyter_link.html?name=Etmopterus pycnolepis\"\n",
       "            frameborder=\"0\"\n",
       "            allowfullscreen\n",
       "            \n",
       "        ></iframe>\n",
       "        "
      ],
      "text/plain": [
       "<IPython.lib.display.IFrame at 0x7f59202c7640>"
      ]
     },
     "metadata": {},
     "output_type": "display_data"
    },
    {
     "name": "stdout",
     "output_type": "stream",
     "text": [
      "Ctenacis fehlmanni https://andrawaag.github.io/tarsier/jupyter_link.html?name=Ctenacis fehlmanni\n"
     ]
    },
    {
     "data": {
      "text/html": [
       "\n",
       "        <iframe\n",
       "            width=\"700\"\n",
       "            height=\"auto\"\n",
       "            src=\"https://andrawaag.github.io/tarsier/jupyter_link.html?name=Ctenacis fehlmanni\"\n",
       "            frameborder=\"0\"\n",
       "            allowfullscreen\n",
       "            \n",
       "        ></iframe>\n",
       "        "
      ],
      "text/plain": [
       "<IPython.lib.display.IFrame at 0x7f59202c7c70>"
      ]
     },
     "metadata": {},
     "output_type": "display_data"
    },
    {
     "name": "stdout",
     "output_type": "stream",
     "text": [
      "Parmaturus macmillani https://andrawaag.github.io/tarsier/jupyter_link.html?name=Parmaturus macmillani\n"
     ]
    },
    {
     "data": {
      "text/html": [
       "\n",
       "        <iframe\n",
       "            width=\"700\"\n",
       "            height=\"auto\"\n",
       "            src=\"https://andrawaag.github.io/tarsier/jupyter_link.html?name=Parmaturus macmillani\"\n",
       "            frameborder=\"0\"\n",
       "            allowfullscreen\n",
       "            \n",
       "        ></iframe>\n",
       "        "
      ],
      "text/plain": [
       "<IPython.lib.display.IFrame at 0x7f59202c7430>"
      ]
     },
     "metadata": {},
     "output_type": "display_data"
    },
    {
     "name": "stdout",
     "output_type": "stream",
     "text": [
      "Heteroscymnoides marleyi https://andrawaag.github.io/tarsier/jupyter_link.html?name=Heteroscymnoides marleyi\n"
     ]
    },
    {
     "data": {
      "text/html": [
       "\n",
       "        <iframe\n",
       "            width=\"700\"\n",
       "            height=\"auto\"\n",
       "            src=\"https://andrawaag.github.io/tarsier/jupyter_link.html?name=Heteroscymnoides marleyi\"\n",
       "            frameborder=\"0\"\n",
       "            allowfullscreen\n",
       "            \n",
       "        ></iframe>\n",
       "        "
      ],
      "text/plain": [
       "<IPython.lib.display.IFrame at 0x7f59202c7640>"
      ]
     },
     "metadata": {},
     "output_type": "display_data"
    },
    {
     "name": "stdout",
     "output_type": "stream",
     "text": [
      "Cephaloscyllium signourum https://andrawaag.github.io/tarsier/jupyter_link.html?name=Cephaloscyllium signourum\n"
     ]
    },
    {
     "data": {
      "text/html": [
       "\n",
       "        <iframe\n",
       "            width=\"700\"\n",
       "            height=\"auto\"\n",
       "            src=\"https://andrawaag.github.io/tarsier/jupyter_link.html?name=Cephaloscyllium signourum\"\n",
       "            frameborder=\"0\"\n",
       "            allowfullscreen\n",
       "            \n",
       "        ></iframe>\n",
       "        "
      ],
      "text/plain": [
       "<IPython.lib.display.IFrame at 0x7f59202c7cd0>"
      ]
     },
     "metadata": {},
     "output_type": "display_data"
    },
    {
     "name": "stdout",
     "output_type": "stream",
     "text": [
      "Cirrhigaleus australis https://andrawaag.github.io/tarsier/jupyter_link.html?name=Cirrhigaleus australis\n"
     ]
    },
    {
     "data": {
      "text/html": [
       "\n",
       "        <iframe\n",
       "            width=\"700\"\n",
       "            height=\"auto\"\n",
       "            src=\"https://andrawaag.github.io/tarsier/jupyter_link.html?name=Cirrhigaleus australis\"\n",
       "            frameborder=\"0\"\n",
       "            allowfullscreen\n",
       "            \n",
       "        ></iframe>\n",
       "        "
      ],
      "text/plain": [
       "<IPython.lib.display.IFrame at 0x7f59202c7c70>"
      ]
     },
     "metadata": {},
     "output_type": "display_data"
    },
    {
     "name": "stdout",
     "output_type": "stream",
     "text": [
      "Eridacnis barbouri https://andrawaag.github.io/tarsier/jupyter_link.html?name=Eridacnis barbouri\n"
     ]
    },
    {
     "data": {
      "text/html": [
       "\n",
       "        <iframe\n",
       "            width=\"700\"\n",
       "            height=\"auto\"\n",
       "            src=\"https://andrawaag.github.io/tarsier/jupyter_link.html?name=Eridacnis barbouri\"\n",
       "            frameborder=\"0\"\n",
       "            allowfullscreen\n",
       "            \n",
       "        ></iframe>\n",
       "        "
      ],
      "text/plain": [
       "<IPython.lib.display.IFrame at 0x7f59202c7430>"
      ]
     },
     "metadata": {},
     "output_type": "display_data"
    },
    {
     "name": "stdout",
     "output_type": "stream",
     "text": [
      "Proscymnodon macracanthus https://andrawaag.github.io/tarsier/jupyter_link.html?name=Proscymnodon macracanthus\n"
     ]
    },
    {
     "data": {
      "text/html": [
       "\n",
       "        <iframe\n",
       "            width=\"700\"\n",
       "            height=\"auto\"\n",
       "            src=\"https://andrawaag.github.io/tarsier/jupyter_link.html?name=Proscymnodon macracanthus\"\n",
       "            frameborder=\"0\"\n",
       "            allowfullscreen\n",
       "            \n",
       "        ></iframe>\n",
       "        "
      ],
      "text/plain": [
       "<IPython.lib.display.IFrame at 0x7f59202c7640>"
      ]
     },
     "metadata": {},
     "output_type": "display_data"
    },
    {
     "name": "stdout",
     "output_type": "stream",
     "text": [
      "Scyliorhinus besnardi https://andrawaag.github.io/tarsier/jupyter_link.html?name=Scyliorhinus besnardi\n"
     ]
    },
    {
     "data": {
      "text/html": [
       "\n",
       "        <iframe\n",
       "            width=\"700\"\n",
       "            height=\"auto\"\n",
       "            src=\"https://andrawaag.github.io/tarsier/jupyter_link.html?name=Scyliorhinus besnardi\"\n",
       "            frameborder=\"0\"\n",
       "            allowfullscreen\n",
       "            \n",
       "        ></iframe>\n",
       "        "
      ],
      "text/plain": [
       "<IPython.lib.display.IFrame at 0x7f59202c7cd0>"
      ]
     },
     "metadata": {},
     "output_type": "display_data"
    },
    {
     "name": "stdout",
     "output_type": "stream",
     "text": [
      "Centrophorus lusitanicus https://andrawaag.github.io/tarsier/jupyter_link.html?name=Centrophorus lusitanicus\n"
     ]
    },
    {
     "data": {
      "text/html": [
       "\n",
       "        <iframe\n",
       "            width=\"700\"\n",
       "            height=\"auto\"\n",
       "            src=\"https://andrawaag.github.io/tarsier/jupyter_link.html?name=Centrophorus lusitanicus\"\n",
       "            frameborder=\"0\"\n",
       "            allowfullscreen\n",
       "            \n",
       "        ></iframe>\n",
       "        "
      ],
      "text/plain": [
       "<IPython.lib.display.IFrame at 0x7f59202c7c70>"
      ]
     },
     "metadata": {},
     "output_type": "display_data"
    },
    {
     "name": "stdout",
     "output_type": "stream",
     "text": [
      "Apristurus stenseni https://andrawaag.github.io/tarsier/jupyter_link.html?name=Apristurus stenseni\n"
     ]
    },
    {
     "data": {
      "text/html": [
       "\n",
       "        <iframe\n",
       "            width=\"700\"\n",
       "            height=\"auto\"\n",
       "            src=\"https://andrawaag.github.io/tarsier/jupyter_link.html?name=Apristurus stenseni\"\n",
       "            frameborder=\"0\"\n",
       "            allowfullscreen\n",
       "            \n",
       "        ></iframe>\n",
       "        "
      ],
      "text/plain": [
       "<IPython.lib.display.IFrame at 0x7f59202c7f70>"
      ]
     },
     "metadata": {},
     "output_type": "display_data"
    },
    {
     "name": "stdout",
     "output_type": "stream",
     "text": [
      "Carcharhinus borneensis https://andrawaag.github.io/tarsier/jupyter_link.html?name=Carcharhinus borneensis\n"
     ]
    },
    {
     "data": {
      "text/html": [
       "\n",
       "        <iframe\n",
       "            width=\"700\"\n",
       "            height=\"auto\"\n",
       "            src=\"https://andrawaag.github.io/tarsier/jupyter_link.html?name=Carcharhinus borneensis\"\n",
       "            frameborder=\"0\"\n",
       "            allowfullscreen\n",
       "            \n",
       "        ></iframe>\n",
       "        "
      ],
      "text/plain": [
       "<IPython.lib.display.IFrame at 0x7f59202c74c0>"
      ]
     },
     "metadata": {},
     "output_type": "display_data"
    },
    {
     "name": "stdout",
     "output_type": "stream",
     "text": [
      "Galeus longirostris https://andrawaag.github.io/tarsier/jupyter_link.html?name=Galeus longirostris\n"
     ]
    },
    {
     "data": {
      "text/html": [
       "\n",
       "        <iframe\n",
       "            width=\"700\"\n",
       "            height=\"auto\"\n",
       "            src=\"https://andrawaag.github.io/tarsier/jupyter_link.html?name=Galeus longirostris\"\n",
       "            frameborder=\"0\"\n",
       "            allowfullscreen\n",
       "            \n",
       "        ></iframe>\n",
       "        "
      ],
      "text/plain": [
       "<IPython.lib.display.IFrame at 0x7f59202c7e80>"
      ]
     },
     "metadata": {},
     "output_type": "display_data"
    },
    {
     "name": "stdout",
     "output_type": "stream",
     "text": [
      "Bythaelurus lutarius https://andrawaag.github.io/tarsier/jupyter_link.html?name=Bythaelurus lutarius\n"
     ]
    },
    {
     "data": {
      "text/html": [
       "\n",
       "        <iframe\n",
       "            width=\"700\"\n",
       "            height=\"auto\"\n",
       "            src=\"https://andrawaag.github.io/tarsier/jupyter_link.html?name=Bythaelurus lutarius\"\n",
       "            frameborder=\"0\"\n",
       "            allowfullscreen\n",
       "            \n",
       "        ></iframe>\n",
       "        "
      ],
      "text/plain": [
       "<IPython.lib.display.IFrame at 0x7f59202c7610>"
      ]
     },
     "metadata": {},
     "output_type": "display_data"
    },
    {
     "name": "stdout",
     "output_type": "stream",
     "text": [
      "Hexanchus vitulus https://andrawaag.github.io/tarsier/jupyter_link.html?name=Hexanchus vitulus\n"
     ]
    },
    {
     "data": {
      "text/html": [
       "\n",
       "        <iframe\n",
       "            width=\"700\"\n",
       "            height=\"auto\"\n",
       "            src=\"https://andrawaag.github.io/tarsier/jupyter_link.html?name=Hexanchus vitulus\"\n",
       "            frameborder=\"0\"\n",
       "            allowfullscreen\n",
       "            \n",
       "        ></iframe>\n",
       "        "
      ],
      "text/plain": [
       "<IPython.lib.display.IFrame at 0x7f59202c74c0>"
      ]
     },
     "metadata": {},
     "output_type": "display_data"
    },
    {
     "name": "stdout",
     "output_type": "stream",
     "text": [
      "Scyliorhinus cabofriensis https://andrawaag.github.io/tarsier/jupyter_link.html?name=Scyliorhinus cabofriensis\n"
     ]
    },
    {
     "data": {
      "text/html": [
       "\n",
       "        <iframe\n",
       "            width=\"700\"\n",
       "            height=\"auto\"\n",
       "            src=\"https://andrawaag.github.io/tarsier/jupyter_link.html?name=Scyliorhinus cabofriensis\"\n",
       "            frameborder=\"0\"\n",
       "            allowfullscreen\n",
       "            \n",
       "        ></iframe>\n",
       "        "
      ],
      "text/plain": [
       "<IPython.lib.display.IFrame at 0x7f59202c7640>"
      ]
     },
     "metadata": {},
     "output_type": "display_data"
    },
    {
     "name": "stdout",
     "output_type": "stream",
     "text": [
      "Squalus lobularis https://andrawaag.github.io/tarsier/jupyter_link.html?name=Squalus lobularis\n"
     ]
    },
    {
     "data": {
      "text/html": [
       "\n",
       "        <iframe\n",
       "            width=\"700\"\n",
       "            height=\"auto\"\n",
       "            src=\"https://andrawaag.github.io/tarsier/jupyter_link.html?name=Squalus lobularis\"\n",
       "            frameborder=\"0\"\n",
       "            allowfullscreen\n",
       "            \n",
       "        ></iframe>\n",
       "        "
      ],
      "text/plain": [
       "<IPython.lib.display.IFrame at 0x7f59202c7610>"
      ]
     },
     "metadata": {},
     "output_type": "display_data"
    },
    {
     "name": "stdout",
     "output_type": "stream",
     "text": [
      "Etmopterus alphus https://andrawaag.github.io/tarsier/jupyter_link.html?name=Etmopterus alphus\n"
     ]
    },
    {
     "data": {
      "text/html": [
       "\n",
       "        <iframe\n",
       "            width=\"700\"\n",
       "            height=\"auto\"\n",
       "            src=\"https://andrawaag.github.io/tarsier/jupyter_link.html?name=Etmopterus alphus\"\n",
       "            frameborder=\"0\"\n",
       "            allowfullscreen\n",
       "            \n",
       "        ></iframe>\n",
       "        "
      ],
      "text/plain": [
       "<IPython.lib.display.IFrame at 0x7f59202c7cd0>"
      ]
     },
     "metadata": {},
     "output_type": "display_data"
    },
    {
     "name": "stdout",
     "output_type": "stream",
     "text": [
      "Squalus albicaudus https://andrawaag.github.io/tarsier/jupyter_link.html?name=Squalus albicaudus\n"
     ]
    },
    {
     "data": {
      "text/html": [
       "\n",
       "        <iframe\n",
       "            width=\"700\"\n",
       "            height=\"auto\"\n",
       "            src=\"https://andrawaag.github.io/tarsier/jupyter_link.html?name=Squalus albicaudus\"\n",
       "            frameborder=\"0\"\n",
       "            allowfullscreen\n",
       "            \n",
       "        ></iframe>\n",
       "        "
      ],
      "text/plain": [
       "<IPython.lib.display.IFrame at 0x7f59202c7c70>"
      ]
     },
     "metadata": {},
     "output_type": "display_data"
    },
    {
     "name": "stdout",
     "output_type": "stream",
     "text": [
      "Heptranchias howelli https://andrawaag.github.io/tarsier/jupyter_link.html?name=Heptranchias howelli\n"
     ]
    },
    {
     "data": {
      "text/html": [
       "\n",
       "        <iframe\n",
       "            width=\"700\"\n",
       "            height=\"auto\"\n",
       "            src=\"https://andrawaag.github.io/tarsier/jupyter_link.html?name=Heptranchias howelli\"\n",
       "            frameborder=\"0\"\n",
       "            allowfullscreen\n",
       "            \n",
       "        ></iframe>\n",
       "        "
      ],
      "text/plain": [
       "<IPython.lib.display.IFrame at 0x7f59202c7f10>"
      ]
     },
     "metadata": {},
     "output_type": "display_data"
    },
    {
     "name": "stdout",
     "output_type": "stream",
     "text": [
      "Squalus quasimodo https://andrawaag.github.io/tarsier/jupyter_link.html?name=Squalus quasimodo\n"
     ]
    },
    {
     "data": {
      "text/html": [
       "\n",
       "        <iframe\n",
       "            width=\"700\"\n",
       "            height=\"auto\"\n",
       "            src=\"https://andrawaag.github.io/tarsier/jupyter_link.html?name=Squalus quasimodo\"\n",
       "            frameborder=\"0\"\n",
       "            allowfullscreen\n",
       "            \n",
       "        ></iframe>\n",
       "        "
      ],
      "text/plain": [
       "<IPython.lib.display.IFrame at 0x7f59202c7430>"
      ]
     },
     "metadata": {},
     "output_type": "display_data"
    },
    {
     "name": "stdout",
     "output_type": "stream",
     "text": [
      "Squatina david https://andrawaag.github.io/tarsier/jupyter_link.html?name=Squatina david\n"
     ]
    },
    {
     "data": {
      "text/html": [
       "\n",
       "        <iframe\n",
       "            width=\"700\"\n",
       "            height=\"auto\"\n",
       "            src=\"https://andrawaag.github.io/tarsier/jupyter_link.html?name=Squatina david\"\n",
       "            frameborder=\"0\"\n",
       "            allowfullscreen\n",
       "            \n",
       "        ></iframe>\n",
       "        "
      ],
      "text/plain": [
       "<IPython.lib.display.IFrame at 0x7f59202c7e80>"
      ]
     },
     "metadata": {},
     "output_type": "display_data"
    },
    {
     "name": "stdout",
     "output_type": "stream",
     "text": [
      "Apristurus nakayai https://andrawaag.github.io/tarsier/jupyter_link.html?name=Apristurus nakayai\n"
     ]
    },
    {
     "data": {
      "text/html": [
       "\n",
       "        <iframe\n",
       "            width=\"700\"\n",
       "            height=\"auto\"\n",
       "            src=\"https://andrawaag.github.io/tarsier/jupyter_link.html?name=Apristurus nakayai\"\n",
       "            frameborder=\"0\"\n",
       "            allowfullscreen\n",
       "            \n",
       "        ></iframe>\n",
       "        "
      ],
      "text/plain": [
       "<IPython.lib.display.IFrame at 0x7f5961f59ac0>"
      ]
     },
     "metadata": {},
     "output_type": "display_data"
    },
    {
     "name": "stdout",
     "output_type": "stream",
     "text": [
      "Squalus bahiensis https://andrawaag.github.io/tarsier/jupyter_link.html?name=Squalus bahiensis\n"
     ]
    },
    {
     "data": {
      "text/html": [
       "\n",
       "        <iframe\n",
       "            width=\"700\"\n",
       "            height=\"auto\"\n",
       "            src=\"https://andrawaag.github.io/tarsier/jupyter_link.html?name=Squalus bahiensis\"\n",
       "            frameborder=\"0\"\n",
       "            allowfullscreen\n",
       "            \n",
       "        ></iframe>\n",
       "        "
      ],
      "text/plain": [
       "<IPython.lib.display.IFrame at 0x7f5961f59520>"
      ]
     },
     "metadata": {},
     "output_type": "display_data"
    },
    {
     "name": "stdout",
     "output_type": "stream",
     "text": [
      "Cephaloscyllium fasciatum https://andrawaag.github.io/tarsier/jupyter_link.html?name=Cephaloscyllium fasciatum\n"
     ]
    },
    {
     "data": {
      "text/html": [
       "\n",
       "        <iframe\n",
       "            width=\"700\"\n",
       "            height=\"auto\"\n",
       "            src=\"https://andrawaag.github.io/tarsier/jupyter_link.html?name=Cephaloscyllium fasciatum\"\n",
       "            frameborder=\"0\"\n",
       "            allowfullscreen\n",
       "            \n",
       "        ></iframe>\n",
       "        "
      ],
      "text/plain": [
       "<IPython.lib.display.IFrame at 0x7f5961f59fd0>"
      ]
     },
     "metadata": {},
     "output_type": "display_data"
    },
    {
     "name": "stdout",
     "output_type": "stream",
     "text": [
      "Squatina caillieti https://andrawaag.github.io/tarsier/jupyter_link.html?name=Squatina caillieti\n"
     ]
    },
    {
     "data": {
      "text/html": [
       "\n",
       "        <iframe\n",
       "            width=\"700\"\n",
       "            height=\"auto\"\n",
       "            src=\"https://andrawaag.github.io/tarsier/jupyter_link.html?name=Squatina caillieti\"\n",
       "            frameborder=\"0\"\n",
       "            allowfullscreen\n",
       "            \n",
       "        ></iframe>\n",
       "        "
      ],
      "text/plain": [
       "<IPython.lib.display.IFrame at 0x7f5961f59430>"
      ]
     },
     "metadata": {},
     "output_type": "display_data"
    },
    {
     "name": "stdout",
     "output_type": "stream",
     "text": [
      "Squaliolus aliae https://andrawaag.github.io/tarsier/jupyter_link.html?name=Squaliolus aliae\n"
     ]
    },
    {
     "data": {
      "text/html": [
       "\n",
       "        <iframe\n",
       "            width=\"700\"\n",
       "            height=\"auto\"\n",
       "            src=\"https://andrawaag.github.io/tarsier/jupyter_link.html?name=Squaliolus aliae\"\n",
       "            frameborder=\"0\"\n",
       "            allowfullscreen\n",
       "            \n",
       "        ></iframe>\n",
       "        "
      ],
      "text/plain": [
       "<IPython.lib.display.IFrame at 0x7f59202c7640>"
      ]
     },
     "metadata": {},
     "output_type": "display_data"
    },
    {
     "name": "stdout",
     "output_type": "stream",
     "text": [
      "Squalus grahami https://andrawaag.github.io/tarsier/jupyter_link.html?name=Squalus grahami\n"
     ]
    },
    {
     "data": {
      "text/html": [
       "\n",
       "        <iframe\n",
       "            width=\"700\"\n",
       "            height=\"auto\"\n",
       "            src=\"https://andrawaag.github.io/tarsier/jupyter_link.html?name=Squalus grahami\"\n",
       "            frameborder=\"0\"\n",
       "            allowfullscreen\n",
       "            \n",
       "        ></iframe>\n",
       "        "
      ],
      "text/plain": [
       "<IPython.lib.display.IFrame at 0x7f59202c7e20>"
      ]
     },
     "metadata": {},
     "output_type": "display_data"
    },
    {
     "name": "stdout",
     "output_type": "stream",
     "text": [
      "Squalus notocaudatus https://andrawaag.github.io/tarsier/jupyter_link.html?name=Squalus notocaudatus\n"
     ]
    },
    {
     "data": {
      "text/html": [
       "\n",
       "        <iframe\n",
       "            width=\"700\"\n",
       "            height=\"auto\"\n",
       "            src=\"https://andrawaag.github.io/tarsier/jupyter_link.html?name=Squalus notocaudatus\"\n",
       "            frameborder=\"0\"\n",
       "            allowfullscreen\n",
       "            \n",
       "        ></iframe>\n",
       "        "
      ],
      "text/plain": [
       "<IPython.lib.display.IFrame at 0x7f5961f59220>"
      ]
     },
     "metadata": {},
     "output_type": "display_data"
    },
    {
     "name": "stdout",
     "output_type": "stream",
     "text": [
      "Etmopterus burgessi https://andrawaag.github.io/tarsier/jupyter_link.html?name=Etmopterus burgessi\n"
     ]
    },
    {
     "data": {
      "text/html": [
       "\n",
       "        <iframe\n",
       "            width=\"700\"\n",
       "            height=\"auto\"\n",
       "            src=\"https://andrawaag.github.io/tarsier/jupyter_link.html?name=Etmopterus burgessi\"\n",
       "            frameborder=\"0\"\n",
       "            allowfullscreen\n",
       "            \n",
       "        ></iframe>\n",
       "        "
      ],
      "text/plain": [
       "<IPython.lib.display.IFrame at 0x7f59202c7310>"
      ]
     },
     "metadata": {},
     "output_type": "display_data"
    },
    {
     "name": "stdout",
     "output_type": "stream",
     "text": [
      "Apristurus micropterygeus https://andrawaag.github.io/tarsier/jupyter_link.html?name=Apristurus micropterygeus\n"
     ]
    },
    {
     "data": {
      "text/html": [
       "\n",
       "        <iframe\n",
       "            width=\"700\"\n",
       "            height=\"auto\"\n",
       "            src=\"https://andrawaag.github.io/tarsier/jupyter_link.html?name=Apristurus micropterygeus\"\n",
       "            frameborder=\"0\"\n",
       "            allowfullscreen\n",
       "            \n",
       "        ></iframe>\n",
       "        "
      ],
      "text/plain": [
       "<IPython.lib.display.IFrame at 0x7f5961f592b0>"
      ]
     },
     "metadata": {},
     "output_type": "display_data"
    },
    {
     "name": "stdout",
     "output_type": "stream",
     "text": [
      "Pristiophorus peroniensis https://andrawaag.github.io/tarsier/jupyter_link.html?name=Pristiophorus peroniensis\n"
     ]
    },
    {
     "data": {
      "text/html": [
       "\n",
       "        <iframe\n",
       "            width=\"700\"\n",
       "            height=\"auto\"\n",
       "            src=\"https://andrawaag.github.io/tarsier/jupyter_link.html?name=Pristiophorus peroniensis\"\n",
       "            frameborder=\"0\"\n",
       "            allowfullscreen\n",
       "            \n",
       "        ></iframe>\n",
       "        "
      ],
      "text/plain": [
       "<IPython.lib.display.IFrame at 0x7f59202c7c70>"
      ]
     },
     "metadata": {},
     "output_type": "display_data"
    },
    {
     "name": "stdout",
     "output_type": "stream",
     "text": [
      "Squalus nasutus https://andrawaag.github.io/tarsier/jupyter_link.html?name=Squalus nasutus\n"
     ]
    },
    {
     "data": {
      "text/html": [
       "\n",
       "        <iframe\n",
       "            width=\"700\"\n",
       "            height=\"auto\"\n",
       "            src=\"https://andrawaag.github.io/tarsier/jupyter_link.html?name=Squalus nasutus\"\n",
       "            frameborder=\"0\"\n",
       "            allowfullscreen\n",
       "            \n",
       "        ></iframe>\n",
       "        "
      ],
      "text/plain": [
       "<IPython.lib.display.IFrame at 0x7f59202c7a00>"
      ]
     },
     "metadata": {},
     "output_type": "display_data"
    },
    {
     "name": "stdout",
     "output_type": "stream",
     "text": [
      "Etmopterus caudistigmus https://andrawaag.github.io/tarsier/jupyter_link.html?name=Etmopterus caudistigmus\n"
     ]
    },
    {
     "data": {
      "text/html": [
       "\n",
       "        <iframe\n",
       "            width=\"700\"\n",
       "            height=\"auto\"\n",
       "            src=\"https://andrawaag.github.io/tarsier/jupyter_link.html?name=Etmopterus caudistigmus\"\n",
       "            frameborder=\"0\"\n",
       "            allowfullscreen\n",
       "            \n",
       "        ></iframe>\n",
       "        "
      ],
      "text/plain": [
       "<IPython.lib.display.IFrame at 0x7f59202c7e80>"
      ]
     },
     "metadata": {},
     "output_type": "display_data"
    },
    {
     "name": "stdout",
     "output_type": "stream",
     "text": [
      "Etmopterus pseudosqualiolus https://andrawaag.github.io/tarsier/jupyter_link.html?name=Etmopterus pseudosqualiolus\n"
     ]
    },
    {
     "data": {
      "text/html": [
       "\n",
       "        <iframe\n",
       "            width=\"700\"\n",
       "            height=\"auto\"\n",
       "            src=\"https://andrawaag.github.io/tarsier/jupyter_link.html?name=Etmopterus pseudosqualiolus\"\n",
       "            frameborder=\"0\"\n",
       "            allowfullscreen\n",
       "            \n",
       "        ></iframe>\n",
       "        "
      ],
      "text/plain": [
       "<IPython.lib.display.IFrame at 0x7f59606ad550>"
      ]
     },
     "metadata": {},
     "output_type": "display_data"
    },
    {
     "name": "stdout",
     "output_type": "stream",
     "text": [
      "Hemitriakis indroyonoi https://andrawaag.github.io/tarsier/jupyter_link.html?name=Hemitriakis indroyonoi\n"
     ]
    },
    {
     "data": {
      "text/html": [
       "\n",
       "        <iframe\n",
       "            width=\"700\"\n",
       "            height=\"auto\"\n",
       "            src=\"https://andrawaag.github.io/tarsier/jupyter_link.html?name=Hemitriakis indroyonoi\"\n",
       "            frameborder=\"0\"\n",
       "            allowfullscreen\n",
       "            \n",
       "        ></iframe>\n",
       "        "
      ],
      "text/plain": [
       "<IPython.lib.display.IFrame at 0x7f59202c7cd0>"
      ]
     },
     "metadata": {},
     "output_type": "display_data"
    },
    {
     "name": "stdout",
     "output_type": "stream",
     "text": [
      "Etmopterus unicolor https://andrawaag.github.io/tarsier/jupyter_link.html?name=Etmopterus unicolor\n"
     ]
    },
    {
     "data": {
      "text/html": [
       "\n",
       "        <iframe\n",
       "            width=\"700\"\n",
       "            height=\"auto\"\n",
       "            src=\"https://andrawaag.github.io/tarsier/jupyter_link.html?name=Etmopterus unicolor\"\n",
       "            frameborder=\"0\"\n",
       "            allowfullscreen\n",
       "            \n",
       "        ></iframe>\n",
       "        "
      ],
      "text/plain": [
       "<IPython.lib.display.IFrame at 0x7f59202c7c70>"
      ]
     },
     "metadata": {},
     "output_type": "display_data"
    },
    {
     "name": "stdout",
     "output_type": "stream",
     "text": [
      "Etmopterus litvinovi https://andrawaag.github.io/tarsier/jupyter_link.html?name=Etmopterus litvinovi\n"
     ]
    },
    {
     "data": {
      "text/html": [
       "\n",
       "        <iframe\n",
       "            width=\"700\"\n",
       "            height=\"auto\"\n",
       "            src=\"https://andrawaag.github.io/tarsier/jupyter_link.html?name=Etmopterus litvinovi\"\n",
       "            frameborder=\"0\"\n",
       "            allowfullscreen\n",
       "            \n",
       "        ></iframe>\n",
       "        "
      ],
      "text/plain": [
       "<IPython.lib.display.IFrame at 0x7f5961f592b0>"
      ]
     },
     "metadata": {},
     "output_type": "display_data"
    },
    {
     "name": "stdout",
     "output_type": "stream",
     "text": [
      "Etmopterus sentosus https://andrawaag.github.io/tarsier/jupyter_link.html?name=Etmopterus sentosus\n"
     ]
    },
    {
     "data": {
      "text/html": [
       "\n",
       "        <iframe\n",
       "            width=\"700\"\n",
       "            height=\"auto\"\n",
       "            src=\"https://andrawaag.github.io/tarsier/jupyter_link.html?name=Etmopterus sentosus\"\n",
       "            frameborder=\"0\"\n",
       "            allowfullscreen\n",
       "            \n",
       "        ></iframe>\n",
       "        "
      ],
      "text/plain": [
       "<IPython.lib.display.IFrame at 0x7f5961f594f0>"
      ]
     },
     "metadata": {},
     "output_type": "display_data"
    },
    {
     "name": "stdout",
     "output_type": "stream",
     "text": [
      "Cephaloscyllium zebrum https://andrawaag.github.io/tarsier/jupyter_link.html?name=Cephaloscyllium zebrum\n"
     ]
    },
    {
     "data": {
      "text/html": [
       "\n",
       "        <iframe\n",
       "            width=\"700\"\n",
       "            height=\"auto\"\n",
       "            src=\"https://andrawaag.github.io/tarsier/jupyter_link.html?name=Cephaloscyllium zebrum\"\n",
       "            frameborder=\"0\"\n",
       "            allowfullscreen\n",
       "            \n",
       "        ></iframe>\n",
       "        "
      ],
      "text/plain": [
       "<IPython.lib.display.IFrame at 0x7f59202c7fd0>"
      ]
     },
     "metadata": {},
     "output_type": "display_data"
    },
    {
     "name": "stdout",
     "output_type": "stream",
     "text": [
      "Apristurus investigatoris https://andrawaag.github.io/tarsier/jupyter_link.html?name=Apristurus investigatoris\n"
     ]
    },
    {
     "data": {
      "text/html": [
       "\n",
       "        <iframe\n",
       "            width=\"700\"\n",
       "            height=\"auto\"\n",
       "            src=\"https://andrawaag.github.io/tarsier/jupyter_link.html?name=Apristurus investigatoris\"\n",
       "            frameborder=\"0\"\n",
       "            allowfullscreen\n",
       "            \n",
       "        ></iframe>\n",
       "        "
      ],
      "text/plain": [
       "<IPython.lib.display.IFrame at 0x7f5961f59fd0>"
      ]
     },
     "metadata": {},
     "output_type": "display_data"
    },
    {
     "name": "stdout",
     "output_type": "stream",
     "text": [
      "Apristurus exsanguis https://andrawaag.github.io/tarsier/jupyter_link.html?name=Apristurus exsanguis\n"
     ]
    },
    {
     "data": {
      "text/html": [
       "\n",
       "        <iframe\n",
       "            width=\"700\"\n",
       "            height=\"auto\"\n",
       "            src=\"https://andrawaag.github.io/tarsier/jupyter_link.html?name=Apristurus exsanguis\"\n",
       "            frameborder=\"0\"\n",
       "            allowfullscreen\n",
       "            \n",
       "        ></iframe>\n",
       "        "
      ],
      "text/plain": [
       "<IPython.lib.display.IFrame at 0x7f5961f59040>"
      ]
     },
     "metadata": {},
     "output_type": "display_data"
    },
    {
     "name": "stdout",
     "output_type": "stream",
     "text": [
      "Asymbolus rubiginosus https://andrawaag.github.io/tarsier/jupyter_link.html?name=Asymbolus rubiginosus\n"
     ]
    },
    {
     "data": {
      "text/html": [
       "\n",
       "        <iframe\n",
       "            width=\"700\"\n",
       "            height=\"auto\"\n",
       "            src=\"https://andrawaag.github.io/tarsier/jupyter_link.html?name=Asymbolus rubiginosus\"\n",
       "            frameborder=\"0\"\n",
       "            allowfullscreen\n",
       "            \n",
       "        ></iframe>\n",
       "        "
      ],
      "text/plain": [
       "<IPython.lib.display.IFrame at 0x7f5961f59fd0>"
      ]
     },
     "metadata": {},
     "output_type": "display_data"
    },
    {
     "name": "stdout",
     "output_type": "stream",
     "text": [
      "Mustelus widodoi https://andrawaag.github.io/tarsier/jupyter_link.html?name=Mustelus widodoi\n"
     ]
    },
    {
     "data": {
      "text/html": [
       "\n",
       "        <iframe\n",
       "            width=\"700\"\n",
       "            height=\"auto\"\n",
       "            src=\"https://andrawaag.github.io/tarsier/jupyter_link.html?name=Mustelus widodoi\"\n",
       "            frameborder=\"0\"\n",
       "            allowfullscreen\n",
       "            \n",
       "        ></iframe>\n",
       "        "
      ],
      "text/plain": [
       "<IPython.lib.display.IFrame at 0x7f5961f598b0>"
      ]
     },
     "metadata": {},
     "output_type": "display_data"
    },
    {
     "name": "stdout",
     "output_type": "stream",
     "text": [
      "Mustelus ravidus https://andrawaag.github.io/tarsier/jupyter_link.html?name=Mustelus ravidus\n"
     ]
    },
    {
     "data": {
      "text/html": [
       "\n",
       "        <iframe\n",
       "            width=\"700\"\n",
       "            height=\"auto\"\n",
       "            src=\"https://andrawaag.github.io/tarsier/jupyter_link.html?name=Mustelus ravidus\"\n",
       "            frameborder=\"0\"\n",
       "            allowfullscreen\n",
       "            \n",
       "        ></iframe>\n",
       "        "
      ],
      "text/plain": [
       "<IPython.lib.display.IFrame at 0x7f5961f59220>"
      ]
     },
     "metadata": {},
     "output_type": "display_data"
    },
    {
     "name": "stdout",
     "output_type": "stream",
     "text": [
      "Apristurus gibbosus https://andrawaag.github.io/tarsier/jupyter_link.html?name=Apristurus gibbosus\n"
     ]
    },
    {
     "data": {
      "text/html": [
       "\n",
       "        <iframe\n",
       "            width=\"700\"\n",
       "            height=\"auto\"\n",
       "            src=\"https://andrawaag.github.io/tarsier/jupyter_link.html?name=Apristurus gibbosus\"\n",
       "            frameborder=\"0\"\n",
       "            allowfullscreen\n",
       "            \n",
       "        ></iframe>\n",
       "        "
      ],
      "text/plain": [
       "<IPython.lib.display.IFrame at 0x7f5961f592b0>"
      ]
     },
     "metadata": {},
     "output_type": "display_data"
    },
    {
     "name": "stdout",
     "output_type": "stream",
     "text": [
      "Scyliorhinus comoroensis https://andrawaag.github.io/tarsier/jupyter_link.html?name=Scyliorhinus comoroensis\n"
     ]
    },
    {
     "data": {
      "text/html": [
       "\n",
       "        <iframe\n",
       "            width=\"700\"\n",
       "            height=\"auto\"\n",
       "            src=\"https://andrawaag.github.io/tarsier/jupyter_link.html?name=Scyliorhinus comoroensis\"\n",
       "            frameborder=\"0\"\n",
       "            allowfullscreen\n",
       "            \n",
       "        ></iframe>\n",
       "        "
      ],
      "text/plain": [
       "<IPython.lib.display.IFrame at 0x7f59202c7e20>"
      ]
     },
     "metadata": {},
     "output_type": "display_data"
    },
    {
     "name": "stdout",
     "output_type": "stream",
     "text": [
      "Mustelus schmitti https://andrawaag.github.io/tarsier/jupyter_link.html?name=Mustelus schmitti\n"
     ]
    },
    {
     "data": {
      "text/html": [
       "\n",
       "        <iframe\n",
       "            width=\"700\"\n",
       "            height=\"auto\"\n",
       "            src=\"https://andrawaag.github.io/tarsier/jupyter_link.html?name=Mustelus schmitti\"\n",
       "            frameborder=\"0\"\n",
       "            allowfullscreen\n",
       "            \n",
       "        ></iframe>\n",
       "        "
      ],
      "text/plain": [
       "<IPython.lib.display.IFrame at 0x7f5961f59ac0>"
      ]
     },
     "metadata": {},
     "output_type": "display_data"
    },
    {
     "name": "stdout",
     "output_type": "stream",
     "text": [
      "Parmaturus lanatus https://andrawaag.github.io/tarsier/jupyter_link.html?name=Parmaturus lanatus\n"
     ]
    },
    {
     "data": {
      "text/html": [
       "\n",
       "        <iframe\n",
       "            width=\"700\"\n",
       "            height=\"auto\"\n",
       "            src=\"https://andrawaag.github.io/tarsier/jupyter_link.html?name=Parmaturus lanatus\"\n",
       "            frameborder=\"0\"\n",
       "            allowfullscreen\n",
       "            \n",
       "        ></iframe>\n",
       "        "
      ],
      "text/plain": [
       "<IPython.lib.display.IFrame at 0x7f5961f59820>"
      ]
     },
     "metadata": {},
     "output_type": "display_data"
    },
    {
     "name": "stdout",
     "output_type": "stream",
     "text": [
      "Apristurus albisoma https://andrawaag.github.io/tarsier/jupyter_link.html?name=Apristurus albisoma\n"
     ]
    },
    {
     "data": {
      "text/html": [
       "\n",
       "        <iframe\n",
       "            width=\"700\"\n",
       "            height=\"auto\"\n",
       "            src=\"https://andrawaag.github.io/tarsier/jupyter_link.html?name=Apristurus albisoma\"\n",
       "            frameborder=\"0\"\n",
       "            allowfullscreen\n",
       "            \n",
       "        ></iframe>\n",
       "        "
      ],
      "text/plain": [
       "<IPython.lib.display.IFrame at 0x7f5961f594f0>"
      ]
     },
     "metadata": {},
     "output_type": "display_data"
    },
    {
     "name": "stdout",
     "output_type": "stream",
     "text": [
      "Holohalaelurus favus https://andrawaag.github.io/tarsier/jupyter_link.html?name=Holohalaelurus favus\n"
     ]
    },
    {
     "data": {
      "text/html": [
       "\n",
       "        <iframe\n",
       "            width=\"700\"\n",
       "            height=\"auto\"\n",
       "            src=\"https://andrawaag.github.io/tarsier/jupyter_link.html?name=Holohalaelurus favus\"\n",
       "            frameborder=\"0\"\n",
       "            allowfullscreen\n",
       "            \n",
       "        ></iframe>\n",
       "        "
      ],
      "text/plain": [
       "<IPython.lib.display.IFrame at 0x7f59202c7430>"
      ]
     },
     "metadata": {},
     "output_type": "display_data"
    },
    {
     "name": "stdout",
     "output_type": "stream",
     "text": [
      "Bythaelurus clevai https://andrawaag.github.io/tarsier/jupyter_link.html?name=Bythaelurus clevai\n"
     ]
    },
    {
     "data": {
      "text/html": [
       "\n",
       "        <iframe\n",
       "            width=\"700\"\n",
       "            height=\"auto\"\n",
       "            src=\"https://andrawaag.github.io/tarsier/jupyter_link.html?name=Bythaelurus clevai\"\n",
       "            frameborder=\"0\"\n",
       "            allowfullscreen\n",
       "            \n",
       "        ></iframe>\n",
       "        "
      ],
      "text/plain": [
       "<IPython.lib.display.IFrame at 0x7f5961f59430>"
      ]
     },
     "metadata": {},
     "output_type": "display_data"
    },
    {
     "name": "stdout",
     "output_type": "stream",
     "text": [
      "Schroederichthys saurisqualus https://andrawaag.github.io/tarsier/jupyter_link.html?name=Schroederichthys saurisqualus\n"
     ]
    },
    {
     "data": {
      "text/html": [
       "\n",
       "        <iframe\n",
       "            width=\"700\"\n",
       "            height=\"auto\"\n",
       "            src=\"https://andrawaag.github.io/tarsier/jupyter_link.html?name=Schroederichthys saurisqualus\"\n",
       "            frameborder=\"0\"\n",
       "            allowfullscreen\n",
       "            \n",
       "        ></iframe>\n",
       "        "
      ],
      "text/plain": [
       "<IPython.lib.display.IFrame at 0x7f59202c7c70>"
      ]
     },
     "metadata": {},
     "output_type": "display_data"
    },
    {
     "name": "stdout",
     "output_type": "stream",
     "text": [
      "Aulohalaelurus kanakorum https://andrawaag.github.io/tarsier/jupyter_link.html?name=Aulohalaelurus kanakorum\n"
     ]
    },
    {
     "data": {
      "text/html": [
       "\n",
       "        <iframe\n",
       "            width=\"700\"\n",
       "            height=\"auto\"\n",
       "            src=\"https://andrawaag.github.io/tarsier/jupyter_link.html?name=Aulohalaelurus kanakorum\"\n",
       "            frameborder=\"0\"\n",
       "            allowfullscreen\n",
       "            \n",
       "        ></iframe>\n",
       "        "
      ],
      "text/plain": [
       "<IPython.lib.display.IFrame at 0x7f59202c7610>"
      ]
     },
     "metadata": {},
     "output_type": "display_data"
    },
    {
     "name": "stdout",
     "output_type": "stream",
     "text": [
      "Holohalaelurus grennian https://andrawaag.github.io/tarsier/jupyter_link.html?name=Holohalaelurus grennian\n"
     ]
    },
    {
     "data": {
      "text/html": [
       "\n",
       "        <iframe\n",
       "            width=\"700\"\n",
       "            height=\"auto\"\n",
       "            src=\"https://andrawaag.github.io/tarsier/jupyter_link.html?name=Holohalaelurus grennian\"\n",
       "            frameborder=\"0\"\n",
       "            allowfullscreen\n",
       "            \n",
       "        ></iframe>\n",
       "        "
      ],
      "text/plain": [
       "<IPython.lib.display.IFrame at 0x7f5961f59130>"
      ]
     },
     "metadata": {},
     "output_type": "display_data"
    },
    {
     "name": "stdout",
     "output_type": "stream",
     "text": [
      "Scymnodalatias albicauda https://andrawaag.github.io/tarsier/jupyter_link.html?name=Scymnodalatias albicauda\n"
     ]
    },
    {
     "data": {
      "text/html": [
       "\n",
       "        <iframe\n",
       "            width=\"700\"\n",
       "            height=\"auto\"\n",
       "            src=\"https://andrawaag.github.io/tarsier/jupyter_link.html?name=Scymnodalatias albicauda\"\n",
       "            frameborder=\"0\"\n",
       "            allowfullscreen\n",
       "            \n",
       "        ></iframe>\n",
       "        "
      ],
      "text/plain": [
       "<IPython.lib.display.IFrame at 0x7f5961f59ac0>"
      ]
     },
     "metadata": {},
     "output_type": "display_data"
    },
    {
     "name": "stdout",
     "output_type": "stream",
     "text": [
      "Planonasus parini https://andrawaag.github.io/tarsier/jupyter_link.html?name=Planonasus parini\n"
     ]
    },
    {
     "data": {
      "text/html": [
       "\n",
       "        <iframe\n",
       "            width=\"700\"\n",
       "            height=\"auto\"\n",
       "            src=\"https://andrawaag.github.io/tarsier/jupyter_link.html?name=Planonasus parini\"\n",
       "            frameborder=\"0\"\n",
       "            allowfullscreen\n",
       "            \n",
       "        ></iframe>\n",
       "        "
      ],
      "text/plain": [
       "<IPython.lib.display.IFrame at 0x7f5961f59430>"
      ]
     },
     "metadata": {},
     "output_type": "display_data"
    },
    {
     "name": "stdout",
     "output_type": "stream",
     "text": [
      "Centrophorus isodon https://andrawaag.github.io/tarsier/jupyter_link.html?name=Centrophorus isodon\n"
     ]
    },
    {
     "data": {
      "text/html": [
       "\n",
       "        <iframe\n",
       "            width=\"700\"\n",
       "            height=\"auto\"\n",
       "            src=\"https://andrawaag.github.io/tarsier/jupyter_link.html?name=Centrophorus isodon\"\n",
       "            frameborder=\"0\"\n",
       "            allowfullscreen\n",
       "            \n",
       "        ></iframe>\n",
       "        "
      ],
      "text/plain": [
       "<IPython.lib.display.IFrame at 0x7f5961f59a30>"
      ]
     },
     "metadata": {},
     "output_type": "display_data"
    },
    {
     "name": "stdout",
     "output_type": "stream",
     "text": [
      "Zameus ichiharai https://andrawaag.github.io/tarsier/jupyter_link.html?name=Zameus ichiharai\n"
     ]
    },
    {
     "data": {
      "text/html": [
       "\n",
       "        <iframe\n",
       "            width=\"700\"\n",
       "            height=\"auto\"\n",
       "            src=\"https://andrawaag.github.io/tarsier/jupyter_link.html?name=Zameus ichiharai\"\n",
       "            frameborder=\"0\"\n",
       "            allowfullscreen\n",
       "            \n",
       "        ></iframe>\n",
       "        "
      ],
      "text/plain": [
       "<IPython.lib.display.IFrame at 0x7f59202c7a00>"
      ]
     },
     "metadata": {},
     "output_type": "display_data"
    },
    {
     "name": "stdout",
     "output_type": "stream",
     "text": [
      "Somniosus longus https://andrawaag.github.io/tarsier/jupyter_link.html?name=Somniosus longus\n"
     ]
    },
    {
     "data": {
      "text/html": [
       "\n",
       "        <iframe\n",
       "            width=\"700\"\n",
       "            height=\"auto\"\n",
       "            src=\"https://andrawaag.github.io/tarsier/jupyter_link.html?name=Somniosus longus\"\n",
       "            frameborder=\"0\"\n",
       "            allowfullscreen\n",
       "            \n",
       "        ></iframe>\n",
       "        "
      ],
      "text/plain": [
       "<IPython.lib.display.IFrame at 0x7f5961f59e20>"
      ]
     },
     "metadata": {},
     "output_type": "display_data"
    },
    {
     "name": "stdout",
     "output_type": "stream",
     "text": [
      "Scymnodalatias oligodon https://andrawaag.github.io/tarsier/jupyter_link.html?name=Scymnodalatias oligodon\n"
     ]
    },
    {
     "data": {
      "text/html": [
       "\n",
       "        <iframe\n",
       "            width=\"700\"\n",
       "            height=\"auto\"\n",
       "            src=\"https://andrawaag.github.io/tarsier/jupyter_link.html?name=Scymnodalatias oligodon\"\n",
       "            frameborder=\"0\"\n",
       "            allowfullscreen\n",
       "            \n",
       "        ></iframe>\n",
       "        "
      ],
      "text/plain": [
       "<IPython.lib.display.IFrame at 0x7f5961f594f0>"
      ]
     },
     "metadata": {},
     "output_type": "display_data"
    },
    {
     "name": "stdout",
     "output_type": "stream",
     "text": [
      "Cephaloscyllium sarawakensis https://andrawaag.github.io/tarsier/jupyter_link.html?name=Cephaloscyllium sarawakensis\n"
     ]
    },
    {
     "data": {
      "text/html": [
       "\n",
       "        <iframe\n",
       "            width=\"700\"\n",
       "            height=\"auto\"\n",
       "            src=\"https://andrawaag.github.io/tarsier/jupyter_link.html?name=Cephaloscyllium sarawakensis\"\n",
       "            frameborder=\"0\"\n",
       "            allowfullscreen\n",
       "            \n",
       "        ></iframe>\n",
       "        "
      ],
      "text/plain": [
       "<IPython.lib.display.IFrame at 0x7f59202c7af0>"
      ]
     },
     "metadata": {},
     "output_type": "display_data"
    },
    {
     "name": "stdout",
     "output_type": "stream",
     "text": [
      "Scymnodalatias garricki https://andrawaag.github.io/tarsier/jupyter_link.html?name=Scymnodalatias garricki\n"
     ]
    },
    {
     "data": {
      "text/html": [
       "\n",
       "        <iframe\n",
       "            width=\"700\"\n",
       "            height=\"auto\"\n",
       "            src=\"https://andrawaag.github.io/tarsier/jupyter_link.html?name=Scymnodalatias garricki\"\n",
       "            frameborder=\"0\"\n",
       "            allowfullscreen\n",
       "            \n",
       "        ></iframe>\n",
       "        "
      ],
      "text/plain": [
       "<IPython.lib.display.IFrame at 0x7f5961f598b0>"
      ]
     },
     "metadata": {},
     "output_type": "display_data"
    },
    {
     "name": "stdout",
     "output_type": "stream",
     "text": [
      "Squatina occulta https://andrawaag.github.io/tarsier/jupyter_link.html?name=Squatina occulta\n"
     ]
    },
    {
     "data": {
      "text/html": [
       "\n",
       "        <iframe\n",
       "            width=\"700\"\n",
       "            height=\"auto\"\n",
       "            src=\"https://andrawaag.github.io/tarsier/jupyter_link.html?name=Squatina occulta\"\n",
       "            frameborder=\"0\"\n",
       "            allowfullscreen\n",
       "            \n",
       "        ></iframe>\n",
       "        "
      ],
      "text/plain": [
       "<IPython.lib.display.IFrame at 0x7f59202c7f70>"
      ]
     },
     "metadata": {},
     "output_type": "display_data"
    },
    {
     "name": "stdout",
     "output_type": "stream",
     "text": [
      "Paragaleus leucolomatus https://andrawaag.github.io/tarsier/jupyter_link.html?name=Paragaleus leucolomatus\n"
     ]
    },
    {
     "data": {
      "text/html": [
       "\n",
       "        <iframe\n",
       "            width=\"700\"\n",
       "            height=\"auto\"\n",
       "            src=\"https://andrawaag.github.io/tarsier/jupyter_link.html?name=Paragaleus leucolomatus\"\n",
       "            frameborder=\"0\"\n",
       "            allowfullscreen\n",
       "            \n",
       "        ></iframe>\n",
       "        "
      ],
      "text/plain": [
       "<IPython.lib.display.IFrame at 0x7f5961f59130>"
      ]
     },
     "metadata": {},
     "output_type": "display_data"
    },
    {
     "name": "stdout",
     "output_type": "stream",
     "text": [
      "Galeus schultzi https://andrawaag.github.io/tarsier/jupyter_link.html?name=Galeus schultzi\n"
     ]
    },
    {
     "data": {
      "text/html": [
       "\n",
       "        <iframe\n",
       "            width=\"700\"\n",
       "            height=\"auto\"\n",
       "            src=\"https://andrawaag.github.io/tarsier/jupyter_link.html?name=Galeus schultzi\"\n",
       "            frameborder=\"0\"\n",
       "            allowfullscreen\n",
       "            \n",
       "        ></iframe>\n",
       "        "
      ],
      "text/plain": [
       "<IPython.lib.display.IFrame at 0x7f59202c7f70>"
      ]
     },
     "metadata": {},
     "output_type": "display_data"
    },
    {
     "name": "stdout",
     "output_type": "stream",
     "text": [
      "Paragaleus randalli https://andrawaag.github.io/tarsier/jupyter_link.html?name=Paragaleus randalli\n"
     ]
    },
    {
     "data": {
      "text/html": [
       "\n",
       "        <iframe\n",
       "            width=\"700\"\n",
       "            height=\"auto\"\n",
       "            src=\"https://andrawaag.github.io/tarsier/jupyter_link.html?name=Paragaleus randalli\"\n",
       "            frameborder=\"0\"\n",
       "            allowfullscreen\n",
       "            \n",
       "        ></iframe>\n",
       "        "
      ],
      "text/plain": [
       "<IPython.lib.display.IFrame at 0x7f5961f59220>"
      ]
     },
     "metadata": {},
     "output_type": "display_data"
    },
    {
     "name": "stdout",
     "output_type": "stream",
     "text": [
      "Paragaleus tengi https://andrawaag.github.io/tarsier/jupyter_link.html?name=Paragaleus tengi\n"
     ]
    },
    {
     "data": {
      "text/html": [
       "\n",
       "        <iframe\n",
       "            width=\"700\"\n",
       "            height=\"auto\"\n",
       "            src=\"https://andrawaag.github.io/tarsier/jupyter_link.html?name=Paragaleus tengi\"\n",
       "            frameborder=\"0\"\n",
       "            allowfullscreen\n",
       "            \n",
       "        ></iframe>\n",
       "        "
      ],
      "text/plain": [
       "<IPython.lib.display.IFrame at 0x7f5961f59520>"
      ]
     },
     "metadata": {},
     "output_type": "display_data"
    },
    {
     "name": "stdout",
     "output_type": "stream",
     "text": [
      "Squalus albifrons https://andrawaag.github.io/tarsier/jupyter_link.html?name=Squalus albifrons\n"
     ]
    },
    {
     "data": {
      "text/html": [
       "\n",
       "        <iframe\n",
       "            width=\"700\"\n",
       "            height=\"auto\"\n",
       "            src=\"https://andrawaag.github.io/tarsier/jupyter_link.html?name=Squalus albifrons\"\n",
       "            frameborder=\"0\"\n",
       "            allowfullscreen\n",
       "            \n",
       "        ></iframe>\n",
       "        "
      ],
      "text/plain": [
       "<IPython.lib.display.IFrame at 0x7f59202c7f70>"
      ]
     },
     "metadata": {},
     "output_type": "display_data"
    },
    {
     "name": "stdout",
     "output_type": "stream",
     "text": [
      "Squalus lalannei https://andrawaag.github.io/tarsier/jupyter_link.html?name=Squalus lalannei\n"
     ]
    },
    {
     "data": {
      "text/html": [
       "\n",
       "        <iframe\n",
       "            width=\"700\"\n",
       "            height=\"auto\"\n",
       "            src=\"https://andrawaag.github.io/tarsier/jupyter_link.html?name=Squalus lalannei\"\n",
       "            frameborder=\"0\"\n",
       "            allowfullscreen\n",
       "            \n",
       "        ></iframe>\n",
       "        "
      ],
      "text/plain": [
       "<IPython.lib.display.IFrame at 0x7f59202c7a00>"
      ]
     },
     "metadata": {},
     "output_type": "display_data"
    },
    {
     "name": "stdout",
     "output_type": "stream",
     "text": [
      "Pristiophorus lanae https://andrawaag.github.io/tarsier/jupyter_link.html?name=Pristiophorus lanae\n"
     ]
    },
    {
     "data": {
      "text/html": [
       "\n",
       "        <iframe\n",
       "            width=\"700\"\n",
       "            height=\"auto\"\n",
       "            src=\"https://andrawaag.github.io/tarsier/jupyter_link.html?name=Pristiophorus lanae\"\n",
       "            frameborder=\"0\"\n",
       "            allowfullscreen\n",
       "            \n",
       "        ></iframe>\n",
       "        "
      ],
      "text/plain": [
       "<IPython.lib.display.IFrame at 0x7f5961f592b0>"
      ]
     },
     "metadata": {},
     "output_type": "display_data"
    },
    {
     "name": "stdout",
     "output_type": "stream",
     "text": [
      "Planonasus indicus https://andrawaag.github.io/tarsier/jupyter_link.html?name=Planonasus indicus\n"
     ]
    },
    {
     "data": {
      "text/html": [
       "\n",
       "        <iframe\n",
       "            width=\"700\"\n",
       "            height=\"auto\"\n",
       "            src=\"https://andrawaag.github.io/tarsier/jupyter_link.html?name=Planonasus indicus\"\n",
       "            frameborder=\"0\"\n",
       "            allowfullscreen\n",
       "            \n",
       "        ></iframe>\n",
       "        "
      ],
      "text/plain": [
       "<IPython.lib.display.IFrame at 0x7f5961f59520>"
      ]
     },
     "metadata": {},
     "output_type": "display_data"
    },
    {
     "name": "stdout",
     "output_type": "stream",
     "text": [
      "Etmopterus viator https://andrawaag.github.io/tarsier/jupyter_link.html?name=Etmopterus viator\n"
     ]
    },
    {
     "data": {
      "text/html": [
       "\n",
       "        <iframe\n",
       "            width=\"700\"\n",
       "            height=\"auto\"\n",
       "            src=\"https://andrawaag.github.io/tarsier/jupyter_link.html?name=Etmopterus viator\"\n",
       "            frameborder=\"0\"\n",
       "            allowfullscreen\n",
       "            \n",
       "        ></iframe>\n",
       "        "
      ],
      "text/plain": [
       "<IPython.lib.display.IFrame at 0x7f5961f59430>"
      ]
     },
     "metadata": {},
     "output_type": "display_data"
    },
    {
     "name": "stdout",
     "output_type": "stream",
     "text": [
      "Centrophorus westraliensis https://andrawaag.github.io/tarsier/jupyter_link.html?name=Centrophorus westraliensis\n"
     ]
    },
    {
     "data": {
      "text/html": [
       "\n",
       "        <iframe\n",
       "            width=\"700\"\n",
       "            height=\"auto\"\n",
       "            src=\"https://andrawaag.github.io/tarsier/jupyter_link.html?name=Centrophorus westraliensis\"\n",
       "            frameborder=\"0\"\n",
       "            allowfullscreen\n",
       "            \n",
       "        ></iframe>\n",
       "        "
      ],
      "text/plain": [
       "<IPython.lib.display.IFrame at 0x7f59202c7310>"
      ]
     },
     "metadata": {},
     "output_type": "display_data"
    },
    {
     "name": "stdout",
     "output_type": "stream",
     "text": [
      "Squalus clarkae https://andrawaag.github.io/tarsier/jupyter_link.html?name=Squalus clarkae\n"
     ]
    },
    {
     "data": {
      "text/html": [
       "\n",
       "        <iframe\n",
       "            width=\"700\"\n",
       "            height=\"auto\"\n",
       "            src=\"https://andrawaag.github.io/tarsier/jupyter_link.html?name=Squalus clarkae\"\n",
       "            frameborder=\"0\"\n",
       "            allowfullscreen\n",
       "            \n",
       "        ></iframe>\n",
       "        "
      ],
      "text/plain": [
       "<IPython.lib.display.IFrame at 0x7f5961f59130>"
      ]
     },
     "metadata": {},
     "output_type": "display_data"
    },
    {
     "name": "stdout",
     "output_type": "stream",
     "text": [
      "Mustelus mangalorensis https://andrawaag.github.io/tarsier/jupyter_link.html?name=Mustelus mangalorensis\n"
     ]
    },
    {
     "data": {
      "text/html": [
       "\n",
       "        <iframe\n",
       "            width=\"700\"\n",
       "            height=\"auto\"\n",
       "            src=\"https://andrawaag.github.io/tarsier/jupyter_link.html?name=Mustelus mangalorensis\"\n",
       "            frameborder=\"0\"\n",
       "            allowfullscreen\n",
       "            \n",
       "        ></iframe>\n",
       "        "
      ],
      "text/plain": [
       "<IPython.lib.display.IFrame at 0x7f5961f59b20>"
      ]
     },
     "metadata": {},
     "output_type": "display_data"
    },
    {
     "name": "stdout",
     "output_type": "stream",
     "text": [
      "Carcharhinus obsolerus https://andrawaag.github.io/tarsier/jupyter_link.html?name=Carcharhinus obsolerus\n"
     ]
    },
    {
     "data": {
      "text/html": [
       "\n",
       "        <iframe\n",
       "            width=\"700\"\n",
       "            height=\"auto\"\n",
       "            src=\"https://andrawaag.github.io/tarsier/jupyter_link.html?name=Carcharhinus obsolerus\"\n",
       "            frameborder=\"0\"\n",
       "            allowfullscreen\n",
       "            \n",
       "        ></iframe>\n",
       "        "
      ],
      "text/plain": [
       "<IPython.lib.display.IFrame at 0x7f59202c7310>"
      ]
     },
     "metadata": {},
     "output_type": "display_data"
    },
    {
     "name": "stdout",
     "output_type": "stream",
     "text": [
      "Etmopterus samadiae https://andrawaag.github.io/tarsier/jupyter_link.html?name=Etmopterus samadiae\n"
     ]
    },
    {
     "data": {
      "text/html": [
       "\n",
       "        <iframe\n",
       "            width=\"700\"\n",
       "            height=\"auto\"\n",
       "            src=\"https://andrawaag.github.io/tarsier/jupyter_link.html?name=Etmopterus samadiae\"\n",
       "            frameborder=\"0\"\n",
       "            allowfullscreen\n",
       "            \n",
       "        ></iframe>\n",
       "        "
      ],
      "text/plain": [
       "<IPython.lib.display.IFrame at 0x7f5961f59520>"
      ]
     },
     "metadata": {},
     "output_type": "display_data"
    },
    {
     "name": "stdout",
     "output_type": "stream",
     "text": [
      "Etmopterus marshae https://andrawaag.github.io/tarsier/jupyter_link.html?name=Etmopterus marshae\n"
     ]
    },
    {
     "data": {
      "text/html": [
       "\n",
       "        <iframe\n",
       "            width=\"700\"\n",
       "            height=\"auto\"\n",
       "            src=\"https://andrawaag.github.io/tarsier/jupyter_link.html?name=Etmopterus marshae\"\n",
       "            frameborder=\"0\"\n",
       "            allowfullscreen\n",
       "            \n",
       "        ></iframe>\n",
       "        "
      ],
      "text/plain": [
       "<IPython.lib.display.IFrame at 0x7f5961f59430>"
      ]
     },
     "metadata": {},
     "output_type": "display_data"
    },
    {
     "name": "stdout",
     "output_type": "stream",
     "text": [
      "Mollisquama mississippiensis https://andrawaag.github.io/tarsier/jupyter_link.html?name=Mollisquama mississippiensis\n"
     ]
    },
    {
     "data": {
      "text/html": [
       "\n",
       "        <iframe\n",
       "            width=\"700\"\n",
       "            height=\"auto\"\n",
       "            src=\"https://andrawaag.github.io/tarsier/jupyter_link.html?name=Mollisquama mississippiensis\"\n",
       "            frameborder=\"0\"\n",
       "            allowfullscreen\n",
       "            \n",
       "        ></iframe>\n",
       "        "
      ],
      "text/plain": [
       "<IPython.lib.display.IFrame at 0x7f59202c7310>"
      ]
     },
     "metadata": {},
     "output_type": "display_data"
    },
    {
     "name": "stdout",
     "output_type": "stream",
     "text": [
      "Isistius plutodus https://andrawaag.github.io/tarsier/jupyter_link.html?name=Isistius plutodus\n"
     ]
    },
    {
     "data": {
      "text/html": [
       "\n",
       "        <iframe\n",
       "            width=\"700\"\n",
       "            height=\"auto\"\n",
       "            src=\"https://andrawaag.github.io/tarsier/jupyter_link.html?name=Isistius plutodus\"\n",
       "            frameborder=\"0\"\n",
       "            allowfullscreen\n",
       "            \n",
       "        ></iframe>\n",
       "        "
      ],
      "text/plain": [
       "<IPython.lib.display.IFrame at 0x7f5961f598b0>"
      ]
     },
     "metadata": {},
     "output_type": "display_data"
    },
    {
     "name": "stdout",
     "output_type": "stream",
     "text": [
      "Cephaloscyllium pictum https://andrawaag.github.io/tarsier/jupyter_link.html?name=Cephaloscyllium pictum\n"
     ]
    },
    {
     "data": {
      "text/html": [
       "\n",
       "        <iframe\n",
       "            width=\"700\"\n",
       "            height=\"auto\"\n",
       "            src=\"https://andrawaag.github.io/tarsier/jupyter_link.html?name=Cephaloscyllium pictum\"\n",
       "            frameborder=\"0\"\n",
       "            allowfullscreen\n",
       "            \n",
       "        ></iframe>\n",
       "        "
      ],
      "text/plain": [
       "<IPython.lib.display.IFrame at 0x7f59202c7610>"
      ]
     },
     "metadata": {},
     "output_type": "display_data"
    },
    {
     "name": "stdout",
     "output_type": "stream",
     "text": [
      "Galeus priapus https://andrawaag.github.io/tarsier/jupyter_link.html?name=Galeus priapus\n"
     ]
    },
    {
     "data": {
      "text/html": [
       "\n",
       "        <iframe\n",
       "            width=\"700\"\n",
       "            height=\"auto\"\n",
       "            src=\"https://andrawaag.github.io/tarsier/jupyter_link.html?name=Galeus priapus\"\n",
       "            frameborder=\"0\"\n",
       "            allowfullscreen\n",
       "            \n",
       "        ></iframe>\n",
       "        "
      ],
      "text/plain": [
       "<IPython.lib.display.IFrame at 0x7f59202c7430>"
      ]
     },
     "metadata": {},
     "output_type": "display_data"
    },
    {
     "name": "stdout",
     "output_type": "stream",
     "text": [
      "Cephaloscyllium speccum https://andrawaag.github.io/tarsier/jupyter_link.html?name=Cephaloscyllium speccum\n"
     ]
    },
    {
     "data": {
      "text/html": [
       "\n",
       "        <iframe\n",
       "            width=\"700\"\n",
       "            height=\"auto\"\n",
       "            src=\"https://andrawaag.github.io/tarsier/jupyter_link.html?name=Cephaloscyllium speccum\"\n",
       "            frameborder=\"0\"\n",
       "            allowfullscreen\n",
       "            \n",
       "        ></iframe>\n",
       "        "
      ],
      "text/plain": [
       "<IPython.lib.display.IFrame at 0x7f59202c7cd0>"
      ]
     },
     "metadata": {},
     "output_type": "display_data"
    },
    {
     "name": "stdout",
     "output_type": "stream",
     "text": [
      "Apristurus breviventralis https://andrawaag.github.io/tarsier/jupyter_link.html?name=Apristurus breviventralis\n"
     ]
    },
    {
     "data": {
      "text/html": [
       "\n",
       "        <iframe\n",
       "            width=\"700\"\n",
       "            height=\"auto\"\n",
       "            src=\"https://andrawaag.github.io/tarsier/jupyter_link.html?name=Apristurus breviventralis\"\n",
       "            frameborder=\"0\"\n",
       "            allowfullscreen\n",
       "            \n",
       "        ></iframe>\n",
       "        "
      ],
      "text/plain": [
       "<IPython.lib.display.IFrame at 0x7f5961f594f0>"
      ]
     },
     "metadata": {},
     "output_type": "display_data"
    },
    {
     "name": "stdout",
     "output_type": "stream",
     "text": [
      "Haploblepharus kistnasamyi https://andrawaag.github.io/tarsier/jupyter_link.html?name=Haploblepharus kistnasamyi\n"
     ]
    },
    {
     "data": {
      "text/html": [
       "\n",
       "        <iframe\n",
       "            width=\"700\"\n",
       "            height=\"auto\"\n",
       "            src=\"https://andrawaag.github.io/tarsier/jupyter_link.html?name=Haploblepharus kistnasamyi\"\n",
       "            frameborder=\"0\"\n",
       "            allowfullscreen\n",
       "            \n",
       "        ></iframe>\n",
       "        "
      ],
      "text/plain": [
       "<IPython.lib.display.IFrame at 0x7f59202c7430>"
      ]
     },
     "metadata": {},
     "output_type": "display_data"
    },
    {
     "name": "stdout",
     "output_type": "stream",
     "text": [
      "Bythaelurus incanus https://andrawaag.github.io/tarsier/jupyter_link.html?name=Bythaelurus incanus\n"
     ]
    },
    {
     "data": {
      "text/html": [
       "\n",
       "        <iframe\n",
       "            width=\"700\"\n",
       "            height=\"auto\"\n",
       "            src=\"https://andrawaag.github.io/tarsier/jupyter_link.html?name=Bythaelurus incanus\"\n",
       "            frameborder=\"0\"\n",
       "            allowfullscreen\n",
       "            \n",
       "        ></iframe>\n",
       "        "
      ],
      "text/plain": [
       "<IPython.lib.display.IFrame at 0x7f59202c7f70>"
      ]
     },
     "metadata": {},
     "output_type": "display_data"
    },
    {
     "name": "stdout",
     "output_type": "stream",
     "text": [
      "Etmopterus compagnoi https://andrawaag.github.io/tarsier/jupyter_link.html?name=Etmopterus compagnoi\n"
     ]
    },
    {
     "data": {
      "text/html": [
       "\n",
       "        <iframe\n",
       "            width=\"700\"\n",
       "            height=\"auto\"\n",
       "            src=\"https://andrawaag.github.io/tarsier/jupyter_link.html?name=Etmopterus compagnoi\"\n",
       "            frameborder=\"0\"\n",
       "            allowfullscreen\n",
       "            \n",
       "        ></iframe>\n",
       "        "
      ],
      "text/plain": [
       "<IPython.lib.display.IFrame at 0x7f59202c7a00>"
      ]
     },
     "metadata": {},
     "output_type": "display_data"
    },
    {
     "name": "stdout",
     "output_type": "stream",
     "text": [
      "Halaelurus maculosus https://andrawaag.github.io/tarsier/jupyter_link.html?name=Halaelurus maculosus\n"
     ]
    },
    {
     "data": {
      "text/html": [
       "\n",
       "        <iframe\n",
       "            width=\"700\"\n",
       "            height=\"auto\"\n",
       "            src=\"https://andrawaag.github.io/tarsier/jupyter_link.html?name=Halaelurus maculosus\"\n",
       "            frameborder=\"0\"\n",
       "            allowfullscreen\n",
       "            \n",
       "        ></iframe>\n",
       "        "
      ],
      "text/plain": [
       "<IPython.lib.display.IFrame at 0x7f59202c7af0>"
      ]
     },
     "metadata": {},
     "output_type": "display_data"
    },
    {
     "name": "stdout",
     "output_type": "stream",
     "text": [
      "Apristurus internatus https://andrawaag.github.io/tarsier/jupyter_link.html?name=Apristurus internatus\n"
     ]
    },
    {
     "data": {
      "text/html": [
       "\n",
       "        <iframe\n",
       "            width=\"700\"\n",
       "            height=\"auto\"\n",
       "            src=\"https://andrawaag.github.io/tarsier/jupyter_link.html?name=Apristurus internatus\"\n",
       "            frameborder=\"0\"\n",
       "            allowfullscreen\n",
       "            \n",
       "        ></iframe>\n",
       "        "
      ],
      "text/plain": [
       "<IPython.lib.display.IFrame at 0x7f5961f59220>"
      ]
     },
     "metadata": {},
     "output_type": "display_data"
    },
    {
     "name": "stdout",
     "output_type": "stream",
     "text": [
      "Asymbolus galacticus https://andrawaag.github.io/tarsier/jupyter_link.html?name=Asymbolus galacticus\n"
     ]
    },
    {
     "data": {
      "text/html": [
       "\n",
       "        <iframe\n",
       "            width=\"700\"\n",
       "            height=\"auto\"\n",
       "            src=\"https://andrawaag.github.io/tarsier/jupyter_link.html?name=Asymbolus galacticus\"\n",
       "            frameborder=\"0\"\n",
       "            allowfullscreen\n",
       "            \n",
       "        ></iframe>\n",
       "        "
      ],
      "text/plain": [
       "<IPython.lib.display.IFrame at 0x7f59202c7640>"
      ]
     },
     "metadata": {},
     "output_type": "display_data"
    },
    {
     "name": "stdout",
     "output_type": "stream",
     "text": [
      "Asymbolus submaculatus https://andrawaag.github.io/tarsier/jupyter_link.html?name=Asymbolus submaculatus\n"
     ]
    },
    {
     "data": {
      "text/html": [
       "\n",
       "        <iframe\n",
       "            width=\"700\"\n",
       "            height=\"auto\"\n",
       "            src=\"https://andrawaag.github.io/tarsier/jupyter_link.html?name=Asymbolus submaculatus\"\n",
       "            frameborder=\"0\"\n",
       "            allowfullscreen\n",
       "            \n",
       "        ></iframe>\n",
       "        "
      ],
      "text/plain": [
       "<IPython.lib.display.IFrame at 0x7f5961f59ac0>"
      ]
     },
     "metadata": {},
     "output_type": "display_data"
    },
    {
     "name": "stdout",
     "output_type": "stream",
     "text": [
      "Squalus griffini https://andrawaag.github.io/tarsier/jupyter_link.html?name=Squalus griffini\n"
     ]
    },
    {
     "data": {
      "text/html": [
       "\n",
       "        <iframe\n",
       "            width=\"700\"\n",
       "            height=\"auto\"\n",
       "            src=\"https://andrawaag.github.io/tarsier/jupyter_link.html?name=Squalus griffini\"\n",
       "            frameborder=\"0\"\n",
       "            allowfullscreen\n",
       "            \n",
       "        ></iframe>\n",
       "        "
      ],
      "text/plain": [
       "<IPython.lib.display.IFrame at 0x7f5961f598b0>"
      ]
     },
     "metadata": {},
     "output_type": "display_data"
    },
    {
     "name": "stdout",
     "output_type": "stream",
     "text": [
      "Centrophorus zeehaani https://andrawaag.github.io/tarsier/jupyter_link.html?name=Centrophorus zeehaani\n"
     ]
    },
    {
     "data": {
      "text/html": [
       "\n",
       "        <iframe\n",
       "            width=\"700\"\n",
       "            height=\"auto\"\n",
       "            src=\"https://andrawaag.github.io/tarsier/jupyter_link.html?name=Centrophorus zeehaani\"\n",
       "            frameborder=\"0\"\n",
       "            allowfullscreen\n",
       "            \n",
       "        ></iframe>\n",
       "        "
      ],
      "text/plain": [
       "<IPython.lib.display.IFrame at 0x7f5961f592b0>"
      ]
     },
     "metadata": {},
     "output_type": "display_data"
    },
    {
     "name": "stdout",
     "output_type": "stream",
     "text": [
      "Atelomycterus erdmanni https://andrawaag.github.io/tarsier/jupyter_link.html?name=Atelomycterus erdmanni\n"
     ]
    },
    {
     "data": {
      "text/html": [
       "\n",
       "        <iframe\n",
       "            width=\"700\"\n",
       "            height=\"auto\"\n",
       "            src=\"https://andrawaag.github.io/tarsier/jupyter_link.html?name=Atelomycterus erdmanni\"\n",
       "            frameborder=\"0\"\n",
       "            allowfullscreen\n",
       "            \n",
       "        ></iframe>\n",
       "        "
      ],
      "text/plain": [
       "<IPython.lib.display.IFrame at 0x7f59202c7310>"
      ]
     },
     "metadata": {},
     "output_type": "display_data"
    },
    {
     "name": "stdout",
     "output_type": "stream",
     "text": [
      "Bythaelurus naylori https://andrawaag.github.io/tarsier/jupyter_link.html?name=Bythaelurus naylori\n"
     ]
    },
    {
     "data": {
      "text/html": [
       "\n",
       "        <iframe\n",
       "            width=\"700\"\n",
       "            height=\"auto\"\n",
       "            src=\"https://andrawaag.github.io/tarsier/jupyter_link.html?name=Bythaelurus naylori\"\n",
       "            frameborder=\"0\"\n",
       "            allowfullscreen\n",
       "            \n",
       "        ></iframe>\n",
       "        "
      ],
      "text/plain": [
       "<IPython.lib.display.IFrame at 0x7f5961f59a30>"
      ]
     },
     "metadata": {},
     "output_type": "display_data"
    },
    {
     "name": "stdout",
     "output_type": "stream",
     "text": [
      "Mustelus albipinnis https://andrawaag.github.io/tarsier/jupyter_link.html?name=Mustelus albipinnis\n"
     ]
    },
    {
     "data": {
      "text/html": [
       "\n",
       "        <iframe\n",
       "            width=\"700\"\n",
       "            height=\"auto\"\n",
       "            src=\"https://andrawaag.github.io/tarsier/jupyter_link.html?name=Mustelus albipinnis\"\n",
       "            frameborder=\"0\"\n",
       "            allowfullscreen\n",
       "            \n",
       "        ></iframe>\n",
       "        "
      ],
      "text/plain": [
       "<IPython.lib.display.IFrame at 0x7f59202c7cd0>"
      ]
     },
     "metadata": {},
     "output_type": "display_data"
    },
    {
     "name": "stdout",
     "output_type": "stream",
     "text": [
      "Centrophorus seychellorum https://andrawaag.github.io/tarsier/jupyter_link.html?name=Centrophorus seychellorum\n"
     ]
    },
    {
     "data": {
      "text/html": [
       "\n",
       "        <iframe\n",
       "            width=\"700\"\n",
       "            height=\"auto\"\n",
       "            src=\"https://andrawaag.github.io/tarsier/jupyter_link.html?name=Centrophorus seychellorum\"\n",
       "            frameborder=\"0\"\n",
       "            allowfullscreen\n",
       "            \n",
       "        ></iframe>\n",
       "        "
      ],
      "text/plain": [
       "<IPython.lib.display.IFrame at 0x7f5961f59220>"
      ]
     },
     "metadata": {},
     "output_type": "display_data"
    },
    {
     "name": "stdout",
     "output_type": "stream",
     "text": [
      "Cephaloscyllium formosanum https://andrawaag.github.io/tarsier/jupyter_link.html?name=Cephaloscyllium formosanum\n"
     ]
    },
    {
     "data": {
      "text/html": [
       "\n",
       "        <iframe\n",
       "            width=\"700\"\n",
       "            height=\"auto\"\n",
       "            src=\"https://andrawaag.github.io/tarsier/jupyter_link.html?name=Cephaloscyllium formosanum\"\n",
       "            frameborder=\"0\"\n",
       "            allowfullscreen\n",
       "            \n",
       "        ></iframe>\n",
       "        "
      ],
      "text/plain": [
       "<IPython.lib.display.IFrame at 0x7f59202c7a00>"
      ]
     },
     "metadata": {},
     "output_type": "display_data"
    },
    {
     "name": "stdout",
     "output_type": "stream",
     "text": [
      "Apristurus garricki https://andrawaag.github.io/tarsier/jupyter_link.html?name=Apristurus garricki\n"
     ]
    },
    {
     "data": {
      "text/html": [
       "\n",
       "        <iframe\n",
       "            width=\"700\"\n",
       "            height=\"auto\"\n",
       "            src=\"https://andrawaag.github.io/tarsier/jupyter_link.html?name=Apristurus garricki\"\n",
       "            frameborder=\"0\"\n",
       "            allowfullscreen\n",
       "            \n",
       "        ></iframe>\n",
       "        "
      ],
      "text/plain": [
       "<IPython.lib.display.IFrame at 0x7f5961f59820>"
      ]
     },
     "metadata": {},
     "output_type": "display_data"
    },
    {
     "name": "stdout",
     "output_type": "stream",
     "text": [
      "Apristurus macrostomus https://andrawaag.github.io/tarsier/jupyter_link.html?name=Apristurus macrostomus\n"
     ]
    },
    {
     "data": {
      "text/html": [
       "\n",
       "        <iframe\n",
       "            width=\"700\"\n",
       "            height=\"auto\"\n",
       "            src=\"https://andrawaag.github.io/tarsier/jupyter_link.html?name=Apristurus macrostomus\"\n",
       "            frameborder=\"0\"\n",
       "            allowfullscreen\n",
       "            \n",
       "        ></iframe>\n",
       "        "
      ],
      "text/plain": [
       "<IPython.lib.display.IFrame at 0x7f5961f59b20>"
      ]
     },
     "metadata": {},
     "output_type": "display_data"
    },
    {
     "name": "stdout",
     "output_type": "stream",
     "text": [
      "Apristurus fedorovi https://andrawaag.github.io/tarsier/jupyter_link.html?name=Apristurus fedorovi\n"
     ]
    },
    {
     "data": {
      "text/html": [
       "\n",
       "        <iframe\n",
       "            width=\"700\"\n",
       "            height=\"auto\"\n",
       "            src=\"https://andrawaag.github.io/tarsier/jupyter_link.html?name=Apristurus fedorovi\"\n",
       "            frameborder=\"0\"\n",
       "            allowfullscreen\n",
       "            \n",
       "        ></iframe>\n",
       "        "
      ],
      "text/plain": [
       "<IPython.lib.display.IFrame at 0x7f5961f594f0>"
      ]
     },
     "metadata": {},
     "output_type": "display_data"
    },
    {
     "name": "stdout",
     "output_type": "stream",
     "text": [
      "Squalus hemipinnis https://andrawaag.github.io/tarsier/jupyter_link.html?name=Squalus hemipinnis\n"
     ]
    },
    {
     "data": {
      "text/html": [
       "\n",
       "        <iframe\n",
       "            width=\"700\"\n",
       "            height=\"auto\"\n",
       "            src=\"https://andrawaag.github.io/tarsier/jupyter_link.html?name=Squalus hemipinnis\"\n",
       "            frameborder=\"0\"\n",
       "            allowfullscreen\n",
       "            \n",
       "        ></iframe>\n",
       "        "
      ],
      "text/plain": [
       "<IPython.lib.display.IFrame at 0x7f59202c7640>"
      ]
     },
     "metadata": {},
     "output_type": "display_data"
    },
    {
     "name": "stdout",
     "output_type": "stream",
     "text": [
      "Sphyrna gilberti https://andrawaag.github.io/tarsier/jupyter_link.html?name=Sphyrna gilberti\n"
     ]
    },
    {
     "data": {
      "text/html": [
       "\n",
       "        <iframe\n",
       "            width=\"700\"\n",
       "            height=\"auto\"\n",
       "            src=\"https://andrawaag.github.io/tarsier/jupyter_link.html?name=Sphyrna gilberti\"\n",
       "            frameborder=\"0\"\n",
       "            allowfullscreen\n",
       "            \n",
       "        ></iframe>\n",
       "        "
      ],
      "text/plain": [
       "<IPython.lib.display.IFrame at 0x7f5961f59430>"
      ]
     },
     "metadata": {},
     "output_type": "display_data"
    },
    {
     "name": "stdout",
     "output_type": "stream",
     "text": [
      "Bythaelurus alcockii https://andrawaag.github.io/tarsier/jupyter_link.html?name=Bythaelurus alcockii\n"
     ]
    },
    {
     "data": {
      "text/html": [
       "\n",
       "        <iframe\n",
       "            width=\"700\"\n",
       "            height=\"auto\"\n",
       "            src=\"https://andrawaag.github.io/tarsier/jupyter_link.html?name=Bythaelurus alcockii\"\n",
       "            frameborder=\"0\"\n",
       "            allowfullscreen\n",
       "            \n",
       "        ></iframe>\n",
       "        "
      ],
      "text/plain": [
       "<IPython.lib.display.IFrame at 0x7f5961f59220>"
      ]
     },
     "metadata": {},
     "output_type": "display_data"
    },
    {
     "name": "stdout",
     "output_type": "stream",
     "text": [
      "Miroscyllium sheikoi https://andrawaag.github.io/tarsier/jupyter_link.html?name=Miroscyllium sheikoi\n"
     ]
    },
    {
     "data": {
      "text/html": [
       "\n",
       "        <iframe\n",
       "            width=\"700\"\n",
       "            height=\"auto\"\n",
       "            src=\"https://andrawaag.github.io/tarsier/jupyter_link.html?name=Miroscyllium sheikoi\"\n",
       "            frameborder=\"0\"\n",
       "            allowfullscreen\n",
       "            \n",
       "        ></iframe>\n",
       "        "
      ],
      "text/plain": [
       "<IPython.lib.display.IFrame at 0x7f59202c7c70>"
      ]
     },
     "metadata": {},
     "output_type": "display_data"
    },
    {
     "name": "stdout",
     "output_type": "stream",
     "text": [
      "Etmopterus sculptus https://andrawaag.github.io/tarsier/jupyter_link.html?name=Etmopterus sculptus\n"
     ]
    },
    {
     "data": {
      "text/html": [
       "\n",
       "        <iframe\n",
       "            width=\"700\"\n",
       "            height=\"auto\"\n",
       "            src=\"https://andrawaag.github.io/tarsier/jupyter_link.html?name=Etmopterus sculptus\"\n",
       "            frameborder=\"0\"\n",
       "            allowfullscreen\n",
       "            \n",
       "        ></iframe>\n",
       "        "
      ],
      "text/plain": [
       "<IPython.lib.display.IFrame at 0x7f5961f59b20>"
      ]
     },
     "metadata": {},
     "output_type": "display_data"
    },
    {
     "name": "stdout",
     "output_type": "stream",
     "text": [
      "Carcharhinus humani https://andrawaag.github.io/tarsier/jupyter_link.html?name=Carcharhinus humani\n"
     ]
    },
    {
     "data": {
      "text/html": [
       "\n",
       "        <iframe\n",
       "            width=\"700\"\n",
       "            height=\"auto\"\n",
       "            src=\"https://andrawaag.github.io/tarsier/jupyter_link.html?name=Carcharhinus humani\"\n",
       "            frameborder=\"0\"\n",
       "            allowfullscreen\n",
       "            \n",
       "        ></iframe>\n",
       "        "
      ],
      "text/plain": [
       "<IPython.lib.display.IFrame at 0x7f59202c7310>"
      ]
     },
     "metadata": {},
     "output_type": "display_data"
    },
    {
     "name": "stdout",
     "output_type": "stream",
     "text": [
      "Mustelus minicanis https://andrawaag.github.io/tarsier/jupyter_link.html?name=Mustelus minicanis\n"
     ]
    },
    {
     "data": {
      "text/html": [
       "\n",
       "        <iframe\n",
       "            width=\"700\"\n",
       "            height=\"auto\"\n",
       "            src=\"https://andrawaag.github.io/tarsier/jupyter_link.html?name=Mustelus minicanis\"\n",
       "            frameborder=\"0\"\n",
       "            allowfullscreen\n",
       "            \n",
       "        ></iframe>\n",
       "        "
      ],
      "text/plain": [
       "<IPython.lib.display.IFrame at 0x7f5961f592b0>"
      ]
     },
     "metadata": {},
     "output_type": "display_data"
    },
    {
     "name": "stdout",
     "output_type": "stream",
     "text": [
      "Galeus mincaronei https://andrawaag.github.io/tarsier/jupyter_link.html?name=Galeus mincaronei\n"
     ]
    },
    {
     "data": {
      "text/html": [
       "\n",
       "        <iframe\n",
       "            width=\"700\"\n",
       "            height=\"auto\"\n",
       "            src=\"https://andrawaag.github.io/tarsier/jupyter_link.html?name=Galeus mincaronei\"\n",
       "            frameborder=\"0\"\n",
       "            allowfullscreen\n",
       "            \n",
       "        ></iframe>\n",
       "        "
      ],
      "text/plain": [
       "<IPython.lib.display.IFrame at 0x7f59202c7e80>"
      ]
     },
     "metadata": {},
     "output_type": "display_data"
    },
    {
     "name": "stdout",
     "output_type": "stream",
     "text": [
      "Galeus springeri https://andrawaag.github.io/tarsier/jupyter_link.html?name=Galeus springeri\n"
     ]
    },
    {
     "data": {
      "text/html": [
       "\n",
       "        <iframe\n",
       "            width=\"700\"\n",
       "            height=\"auto\"\n",
       "            src=\"https://andrawaag.github.io/tarsier/jupyter_link.html?name=Galeus springeri\"\n",
       "            frameborder=\"0\"\n",
       "            allowfullscreen\n",
       "            \n",
       "        ></iframe>\n",
       "        "
      ],
      "text/plain": [
       "<IPython.lib.display.IFrame at 0x7f5961f59b20>"
      ]
     },
     "metadata": {},
     "output_type": "display_data"
    },
    {
     "name": "stdout",
     "output_type": "stream",
     "text": [
      "Cephaloscyllium stevensi https://andrawaag.github.io/tarsier/jupyter_link.html?name=Cephaloscyllium stevensi\n"
     ]
    },
    {
     "data": {
      "text/html": [
       "\n",
       "        <iframe\n",
       "            width=\"700\"\n",
       "            height=\"auto\"\n",
       "            src=\"https://andrawaag.github.io/tarsier/jupyter_link.html?name=Cephaloscyllium stevensi\"\n",
       "            frameborder=\"0\"\n",
       "            allowfullscreen\n",
       "            \n",
       "        ></iframe>\n",
       "        "
      ],
      "text/plain": [
       "<IPython.lib.display.IFrame at 0x7f59202c7610>"
      ]
     },
     "metadata": {},
     "output_type": "display_data"
    },
    {
     "name": "stdout",
     "output_type": "stream",
     "text": [
      "Etmopterus joungi https://andrawaag.github.io/tarsier/jupyter_link.html?name=Etmopterus joungi\n"
     ]
    },
    {
     "data": {
      "text/html": [
       "\n",
       "        <iframe\n",
       "            width=\"700\"\n",
       "            height=\"auto\"\n",
       "            src=\"https://andrawaag.github.io/tarsier/jupyter_link.html?name=Etmopterus joungi\"\n",
       "            frameborder=\"0\"\n",
       "            allowfullscreen\n",
       "            \n",
       "        ></iframe>\n",
       "        "
      ],
      "text/plain": [
       "<IPython.lib.display.IFrame at 0x7f59202c7cd0>"
      ]
     },
     "metadata": {},
     "output_type": "display_data"
    },
    {
     "name": "stdout",
     "output_type": "stream",
     "text": [
      "Squalus formosus https://andrawaag.github.io/tarsier/jupyter_link.html?name=Squalus formosus\n"
     ]
    },
    {
     "data": {
      "text/html": [
       "\n",
       "        <iframe\n",
       "            width=\"700\"\n",
       "            height=\"auto\"\n",
       "            src=\"https://andrawaag.github.io/tarsier/jupyter_link.html?name=Squalus formosus\"\n",
       "            frameborder=\"0\"\n",
       "            allowfullscreen\n",
       "            \n",
       "        ></iframe>\n",
       "        "
      ],
      "text/plain": [
       "<IPython.lib.display.IFrame at 0x7f5961f59b20>"
      ]
     },
     "metadata": {},
     "output_type": "display_data"
    },
    {
     "name": "stdout",
     "output_type": "stream",
     "text": [
      "Scyliorhinus ugoi https://andrawaag.github.io/tarsier/jupyter_link.html?name=Scyliorhinus ugoi\n"
     ]
    },
    {
     "data": {
      "text/html": [
       "\n",
       "        <iframe\n",
       "            width=\"700\"\n",
       "            height=\"auto\"\n",
       "            src=\"https://andrawaag.github.io/tarsier/jupyter_link.html?name=Scyliorhinus ugoi\"\n",
       "            frameborder=\"0\"\n",
       "            allowfullscreen\n",
       "            \n",
       "        ></iframe>\n",
       "        "
      ],
      "text/plain": [
       "<IPython.lib.display.IFrame at 0x7f59202c7c70>"
      ]
     },
     "metadata": {},
     "output_type": "display_data"
    },
    {
     "name": "stdout",
     "output_type": "stream",
     "text": [
      "Glyphis siamensis https://andrawaag.github.io/tarsier/jupyter_link.html?name=Glyphis siamensis\n"
     ]
    },
    {
     "data": {
      "text/html": [
       "\n",
       "        <iframe\n",
       "            width=\"700\"\n",
       "            height=\"auto\"\n",
       "            src=\"https://andrawaag.github.io/tarsier/jupyter_link.html?name=Glyphis siamensis\"\n",
       "            frameborder=\"0\"\n",
       "            allowfullscreen\n",
       "            \n",
       "        ></iframe>\n",
       "        "
      ],
      "text/plain": [
       "<IPython.lib.display.IFrame at 0x7f5961f59e20>"
      ]
     },
     "metadata": {},
     "output_type": "display_data"
    },
    {
     "name": "stdout",
     "output_type": "stream",
     "text": [
      "Bythaelurus tenuicephalus https://andrawaag.github.io/tarsier/jupyter_link.html?name=Bythaelurus tenuicephalus\n"
     ]
    },
    {
     "data": {
      "text/html": [
       "\n",
       "        <iframe\n",
       "            width=\"700\"\n",
       "            height=\"auto\"\n",
       "            src=\"https://andrawaag.github.io/tarsier/jupyter_link.html?name=Bythaelurus tenuicephalus\"\n",
       "            frameborder=\"0\"\n",
       "            allowfullscreen\n",
       "            \n",
       "        ></iframe>\n",
       "        "
      ],
      "text/plain": [
       "<IPython.lib.display.IFrame at 0x7f59202c7a00>"
      ]
     },
     "metadata": {},
     "output_type": "display_data"
    },
    {
     "name": "stdout",
     "output_type": "stream",
     "text": [
      "Squatina guggenheim https://andrawaag.github.io/tarsier/jupyter_link.html?name=Squatina guggenheim\n"
     ]
    },
    {
     "data": {
      "text/html": [
       "\n",
       "        <iframe\n",
       "            width=\"700\"\n",
       "            height=\"auto\"\n",
       "            src=\"https://andrawaag.github.io/tarsier/jupyter_link.html?name=Squatina guggenheim\"\n",
       "            frameborder=\"0\"\n",
       "            allowfullscreen\n",
       "            \n",
       "        ></iframe>\n",
       "        "
      ],
      "text/plain": [
       "<IPython.lib.display.IFrame at 0x7f59202c7e80>"
      ]
     },
     "metadata": {},
     "output_type": "display_data"
    },
    {
     "name": "stdout",
     "output_type": "stream",
     "text": [
      "Parascyllium collare https://andrawaag.github.io/tarsier/jupyter_link.html?name=Parascyllium collare\n"
     ]
    },
    {
     "data": {
      "text/html": [
       "\n",
       "        <iframe\n",
       "            width=\"700\"\n",
       "            height=\"auto\"\n",
       "            src=\"https://andrawaag.github.io/tarsier/jupyter_link.html?name=Parascyllium collare\"\n",
       "            frameborder=\"0\"\n",
       "            allowfullscreen\n",
       "            \n",
       "        ></iframe>\n",
       "        "
      ],
      "text/plain": [
       "<IPython.lib.display.IFrame at 0x7f5961f59130>"
      ]
     },
     "metadata": {},
     "output_type": "display_data"
    },
    {
     "name": "stdout",
     "output_type": "stream",
     "text": [
      "Triakis maculata https://andrawaag.github.io/tarsier/jupyter_link.html?name=Triakis maculata\n"
     ]
    },
    {
     "data": {
      "text/html": [
       "\n",
       "        <iframe\n",
       "            width=\"700\"\n",
       "            height=\"auto\"\n",
       "            src=\"https://andrawaag.github.io/tarsier/jupyter_link.html?name=Triakis maculata\"\n",
       "            frameborder=\"0\"\n",
       "            allowfullscreen\n",
       "            \n",
       "        ></iframe>\n",
       "        "
      ],
      "text/plain": [
       "<IPython.lib.display.IFrame at 0x7f59202c7640>"
      ]
     },
     "metadata": {},
     "output_type": "display_data"
    },
    {
     "name": "stdout",
     "output_type": "stream",
     "text": [
      "Cirrhoscyllium formosanum https://andrawaag.github.io/tarsier/jupyter_link.html?name=Cirrhoscyllium formosanum\n"
     ]
    },
    {
     "data": {
      "text/html": [
       "\n",
       "        <iframe\n",
       "            width=\"700\"\n",
       "            height=\"auto\"\n",
       "            src=\"https://andrawaag.github.io/tarsier/jupyter_link.html?name=Cirrhoscyllium formosanum\"\n",
       "            frameborder=\"0\"\n",
       "            allowfullscreen\n",
       "            \n",
       "        ></iframe>\n",
       "        "
      ],
      "text/plain": [
       "<IPython.lib.display.IFrame at 0x7f5961f59fd0>"
      ]
     },
     "metadata": {},
     "output_type": "display_data"
    },
    {
     "name": "stdout",
     "output_type": "stream",
     "text": [
      "Holohalaelurus melanostigma https://andrawaag.github.io/tarsier/jupyter_link.html?name=Holohalaelurus melanostigma\n"
     ]
    },
    {
     "data": {
      "text/html": [
       "\n",
       "        <iframe\n",
       "            width=\"700\"\n",
       "            height=\"auto\"\n",
       "            src=\"https://andrawaag.github.io/tarsier/jupyter_link.html?name=Holohalaelurus melanostigma\"\n",
       "            frameborder=\"0\"\n",
       "            allowfullscreen\n",
       "            \n",
       "        ></iframe>\n",
       "        "
      ],
      "text/plain": [
       "<IPython.lib.display.IFrame at 0x7f5961f59b20>"
      ]
     },
     "metadata": {},
     "output_type": "display_data"
    },
    {
     "name": "stdout",
     "output_type": "stream",
     "text": [
      "Gogolia filewoodi https://andrawaag.github.io/tarsier/jupyter_link.html?name=Gogolia filewoodi\n"
     ]
    },
    {
     "data": {
      "text/html": [
       "\n",
       "        <iframe\n",
       "            width=\"700\"\n",
       "            height=\"auto\"\n",
       "            src=\"https://andrawaag.github.io/tarsier/jupyter_link.html?name=Gogolia filewoodi\"\n",
       "            frameborder=\"0\"\n",
       "            allowfullscreen\n",
       "            \n",
       "        ></iframe>\n",
       "        "
      ],
      "text/plain": [
       "<IPython.lib.display.IFrame at 0x7f59202c7c70>"
      ]
     },
     "metadata": {},
     "output_type": "display_data"
    },
    {
     "name": "stdout",
     "output_type": "stream",
     "text": [
      "Apristurus indicus https://andrawaag.github.io/tarsier/jupyter_link.html?name=Apristurus indicus\n"
     ]
    },
    {
     "data": {
      "text/html": [
       "\n",
       "        <iframe\n",
       "            width=\"700\"\n",
       "            height=\"auto\"\n",
       "            src=\"https://andrawaag.github.io/tarsier/jupyter_link.html?name=Apristurus indicus\"\n",
       "            frameborder=\"0\"\n",
       "            allowfullscreen\n",
       "            \n",
       "        ></iframe>\n",
       "        "
      ],
      "text/plain": [
       "<IPython.lib.display.IFrame at 0x7f5961f59430>"
      ]
     },
     "metadata": {},
     "output_type": "display_data"
    },
    {
     "name": "stdout",
     "output_type": "stream",
     "text": [
      "Triakis acutipinna https://andrawaag.github.io/tarsier/jupyter_link.html?name=Triakis acutipinna\n"
     ]
    },
    {
     "data": {
      "text/html": [
       "\n",
       "        <iframe\n",
       "            width=\"700\"\n",
       "            height=\"auto\"\n",
       "            src=\"https://andrawaag.github.io/tarsier/jupyter_link.html?name=Triakis acutipinna\"\n",
       "            frameborder=\"0\"\n",
       "            allowfullscreen\n",
       "            \n",
       "        ></iframe>\n",
       "        "
      ],
      "text/plain": [
       "<IPython.lib.display.IFrame at 0x7f59202c7e20>"
      ]
     },
     "metadata": {},
     "output_type": "display_data"
    },
    {
     "name": "stdout",
     "output_type": "stream",
     "text": [
      "Centroscyllium kamoharai https://andrawaag.github.io/tarsier/jupyter_link.html?name=Centroscyllium kamoharai\n"
     ]
    },
    {
     "data": {
      "text/html": [
       "\n",
       "        <iframe\n",
       "            width=\"700\"\n",
       "            height=\"auto\"\n",
       "            src=\"https://andrawaag.github.io/tarsier/jupyter_link.html?name=Centroscyllium kamoharai\"\n",
       "            frameborder=\"0\"\n",
       "            allowfullscreen\n",
       "            \n",
       "        ></iframe>\n",
       "        "
      ],
      "text/plain": [
       "<IPython.lib.display.IFrame at 0x7f59202c7430>"
      ]
     },
     "metadata": {},
     "output_type": "display_data"
    },
    {
     "name": "stdout",
     "output_type": "stream",
     "text": [
      "Mustelus walkeri https://andrawaag.github.io/tarsier/jupyter_link.html?name=Mustelus walkeri\n"
     ]
    },
    {
     "data": {
      "text/html": [
       "\n",
       "        <iframe\n",
       "            width=\"700\"\n",
       "            height=\"auto\"\n",
       "            src=\"https://andrawaag.github.io/tarsier/jupyter_link.html?name=Mustelus walkeri\"\n",
       "            frameborder=\"0\"\n",
       "            allowfullscreen\n",
       "            \n",
       "        ></iframe>\n",
       "        "
      ],
      "text/plain": [
       "<IPython.lib.display.IFrame at 0x7f5961f59fd0>"
      ]
     },
     "metadata": {},
     "output_type": "display_data"
    },
    {
     "name": "stdout",
     "output_type": "stream",
     "text": [
      "Cephaloscyllium sufflans https://andrawaag.github.io/tarsier/jupyter_link.html?name=Cephaloscyllium sufflans\n"
     ]
    },
    {
     "data": {
      "text/html": [
       "\n",
       "        <iframe\n",
       "            width=\"700\"\n",
       "            height=\"auto\"\n",
       "            src=\"https://andrawaag.github.io/tarsier/jupyter_link.html?name=Cephaloscyllium sufflans\"\n",
       "            frameborder=\"0\"\n",
       "            allowfullscreen\n",
       "            \n",
       "        ></iframe>\n",
       "        "
      ],
      "text/plain": [
       "<IPython.lib.display.IFrame at 0x7f59202c7e80>"
      ]
     },
     "metadata": {},
     "output_type": "display_data"
    },
    {
     "name": "stdout",
     "output_type": "stream",
     "text": [
      "Galeus nipponensis https://andrawaag.github.io/tarsier/jupyter_link.html?name=Galeus nipponensis\n"
     ]
    },
    {
     "data": {
      "text/html": [
       "\n",
       "        <iframe\n",
       "            width=\"700\"\n",
       "            height=\"auto\"\n",
       "            src=\"https://andrawaag.github.io/tarsier/jupyter_link.html?name=Galeus nipponensis\"\n",
       "            frameborder=\"0\"\n",
       "            allowfullscreen\n",
       "            \n",
       "        ></iframe>\n",
       "        "
      ],
      "text/plain": [
       "<IPython.lib.display.IFrame at 0x7f5961f59520>"
      ]
     },
     "metadata": {},
     "output_type": "display_data"
    },
    {
     "name": "stdout",
     "output_type": "stream",
     "text": [
      "Scyliorhinus garmani https://andrawaag.github.io/tarsier/jupyter_link.html?name=Scyliorhinus garmani\n"
     ]
    },
    {
     "data": {
      "text/html": [
       "\n",
       "        <iframe\n",
       "            width=\"700\"\n",
       "            height=\"auto\"\n",
       "            src=\"https://andrawaag.github.io/tarsier/jupyter_link.html?name=Scyliorhinus garmani\"\n",
       "            frameborder=\"0\"\n",
       "            allowfullscreen\n",
       "            \n",
       "        ></iframe>\n",
       "        "
      ],
      "text/plain": [
       "<IPython.lib.display.IFrame at 0x7f59202c7f10>"
      ]
     },
     "metadata": {},
     "output_type": "display_data"
    },
    {
     "name": "stdout",
     "output_type": "stream",
     "text": [
      "Holohalaelurus punctatus https://andrawaag.github.io/tarsier/jupyter_link.html?name=Holohalaelurus punctatus\n"
     ]
    },
    {
     "data": {
      "text/html": [
       "\n",
       "        <iframe\n",
       "            width=\"700\"\n",
       "            height=\"auto\"\n",
       "            src=\"https://andrawaag.github.io/tarsier/jupyter_link.html?name=Holohalaelurus punctatus\"\n",
       "            frameborder=\"0\"\n",
       "            allowfullscreen\n",
       "            \n",
       "        ></iframe>\n",
       "        "
      ],
      "text/plain": [
       "<IPython.lib.display.IFrame at 0x7f5961f59b20>"
      ]
     },
     "metadata": {},
     "output_type": "display_data"
    },
    {
     "name": "stdout",
     "output_type": "stream",
     "text": [
      "Scyliorhinus torrei https://andrawaag.github.io/tarsier/jupyter_link.html?name=Scyliorhinus torrei\n"
     ]
    },
    {
     "data": {
      "text/html": [
       "\n",
       "        <iframe\n",
       "            width=\"700\"\n",
       "            height=\"auto\"\n",
       "            src=\"https://andrawaag.github.io/tarsier/jupyter_link.html?name=Scyliorhinus torrei\"\n",
       "            frameborder=\"0\"\n",
       "            allowfullscreen\n",
       "            \n",
       "        ></iframe>\n",
       "        "
      ],
      "text/plain": [
       "<IPython.lib.display.IFrame at 0x7f5961f59520>"
      ]
     },
     "metadata": {},
     "output_type": "display_data"
    },
    {
     "name": "stdout",
     "output_type": "stream",
     "text": [
      "Abdounia beaugei https://andrawaag.github.io/tarsier/jupyter_link.html?name=Abdounia beaugei\n"
     ]
    },
    {
     "data": {
      "text/html": [
       "\n",
       "        <iframe\n",
       "            width=\"700\"\n",
       "            height=\"auto\"\n",
       "            src=\"https://andrawaag.github.io/tarsier/jupyter_link.html?name=Abdounia beaugei\"\n",
       "            frameborder=\"0\"\n",
       "            allowfullscreen\n",
       "            \n",
       "        ></iframe>\n",
       "        "
      ],
      "text/plain": [
       "<IPython.lib.display.IFrame at 0x7f59202c74c0>"
      ]
     },
     "metadata": {},
     "output_type": "display_data"
    },
    {
     "name": "stdout",
     "output_type": "stream",
     "text": [
      "Chiloscyllium burmensis https://andrawaag.github.io/tarsier/jupyter_link.html?name=Chiloscyllium burmensis\n"
     ]
    },
    {
     "data": {
      "text/html": [
       "\n",
       "        <iframe\n",
       "            width=\"700\"\n",
       "            height=\"auto\"\n",
       "            src=\"https://andrawaag.github.io/tarsier/jupyter_link.html?name=Chiloscyllium burmensis\"\n",
       "            frameborder=\"0\"\n",
       "            allowfullscreen\n",
       "            \n",
       "        ></iframe>\n",
       "        "
      ],
      "text/plain": [
       "<IPython.lib.display.IFrame at 0x7f5961f598b0>"
      ]
     },
     "metadata": {},
     "output_type": "display_data"
    },
    {
     "name": "stdout",
     "output_type": "stream",
     "text": [
      "Squatina tergocellatoides https://andrawaag.github.io/tarsier/jupyter_link.html?name=Squatina tergocellatoides\n"
     ]
    },
    {
     "data": {
      "text/html": [
       "\n",
       "        <iframe\n",
       "            width=\"700\"\n",
       "            height=\"auto\"\n",
       "            src=\"https://andrawaag.github.io/tarsier/jupyter_link.html?name=Squatina tergocellatoides\"\n",
       "            frameborder=\"0\"\n",
       "            allowfullscreen\n",
       "            \n",
       "        ></iframe>\n",
       "        "
      ],
      "text/plain": [
       "<IPython.lib.display.IFrame at 0x7f59202c7f10>"
      ]
     },
     "metadata": {},
     "output_type": "display_data"
    },
    {
     "name": "stdout",
     "output_type": "stream",
     "text": [
      "Orectolobus reticulatus https://andrawaag.github.io/tarsier/jupyter_link.html?name=Orectolobus reticulatus\n"
     ]
    },
    {
     "data": {
      "text/html": [
       "\n",
       "        <iframe\n",
       "            width=\"700\"\n",
       "            height=\"auto\"\n",
       "            src=\"https://andrawaag.github.io/tarsier/jupyter_link.html?name=Orectolobus reticulatus\"\n",
       "            frameborder=\"0\"\n",
       "            allowfullscreen\n",
       "            \n",
       "        ></iframe>\n",
       "        "
      ],
      "text/plain": [
       "<IPython.lib.display.IFrame at 0x7f5961f59ac0>"
      ]
     },
     "metadata": {},
     "output_type": "display_data"
    },
    {
     "name": "stdout",
     "output_type": "stream",
     "text": [
      "Bythaelurus hispidus https://andrawaag.github.io/tarsier/jupyter_link.html?name=Bythaelurus hispidus\n"
     ]
    },
    {
     "data": {
      "text/html": [
       "\n",
       "        <iframe\n",
       "            width=\"700\"\n",
       "            height=\"auto\"\n",
       "            src=\"https://andrawaag.github.io/tarsier/jupyter_link.html?name=Bythaelurus hispidus\"\n",
       "            frameborder=\"0\"\n",
       "            allowfullscreen\n",
       "            \n",
       "        ></iframe>\n",
       "        "
      ],
      "text/plain": [
       "<IPython.lib.display.IFrame at 0x7f59202c7c70>"
      ]
     },
     "metadata": {},
     "output_type": "display_data"
    },
    {
     "name": "stdout",
     "output_type": "stream",
     "text": [
      "Mustelus punctulatus https://andrawaag.github.io/tarsier/jupyter_link.html?name=Mustelus punctulatus\n"
     ]
    },
    {
     "data": {
      "text/html": [
       "\n",
       "        <iframe\n",
       "            width=\"700\"\n",
       "            height=\"auto\"\n",
       "            src=\"https://andrawaag.github.io/tarsier/jupyter_link.html?name=Mustelus punctulatus\"\n",
       "            frameborder=\"0\"\n",
       "            allowfullscreen\n",
       "            \n",
       "        ></iframe>\n",
       "        "
      ],
      "text/plain": [
       "<IPython.lib.display.IFrame at 0x7f59202c7430>"
      ]
     },
     "metadata": {},
     "output_type": "display_data"
    },
    {
     "name": "stdout",
     "output_type": "stream",
     "text": [
      "Parmaturus melanobranchus https://andrawaag.github.io/tarsier/jupyter_link.html?name=Parmaturus melanobranchus\n"
     ]
    },
    {
     "data": {
      "text/html": [
       "\n",
       "        <iframe\n",
       "            width=\"700\"\n",
       "            height=\"auto\"\n",
       "            src=\"https://andrawaag.github.io/tarsier/jupyter_link.html?name=Parmaturus melanobranchus\"\n",
       "            frameborder=\"0\"\n",
       "            allowfullscreen\n",
       "            \n",
       "        ></iframe>\n",
       "        "
      ],
      "text/plain": [
       "<IPython.lib.display.IFrame at 0x7f59202c7310>"
      ]
     },
     "metadata": {},
     "output_type": "display_data"
    },
    {
     "name": "stdout",
     "output_type": "stream",
     "text": [
      "Halaelurus lineatus https://andrawaag.github.io/tarsier/jupyter_link.html?name=Halaelurus lineatus\n"
     ]
    },
    {
     "data": {
      "text/html": [
       "\n",
       "        <iframe\n",
       "            width=\"700\"\n",
       "            height=\"auto\"\n",
       "            src=\"https://andrawaag.github.io/tarsier/jupyter_link.html?name=Halaelurus lineatus\"\n",
       "            frameborder=\"0\"\n",
       "            allowfullscreen\n",
       "            \n",
       "        ></iframe>\n",
       "        "
      ],
      "text/plain": [
       "<IPython.lib.display.IFrame at 0x7f59202c7fd0>"
      ]
     },
     "metadata": {},
     "output_type": "display_data"
    },
    {
     "name": "stdout",
     "output_type": "stream",
     "text": [
      "Parmaturus pilosus https://andrawaag.github.io/tarsier/jupyter_link.html?name=Parmaturus pilosus\n"
     ]
    },
    {
     "data": {
      "text/html": [
       "\n",
       "        <iframe\n",
       "            width=\"700\"\n",
       "            height=\"auto\"\n",
       "            src=\"https://andrawaag.github.io/tarsier/jupyter_link.html?name=Parmaturus pilosus\"\n",
       "            frameborder=\"0\"\n",
       "            allowfullscreen\n",
       "            \n",
       "        ></iframe>\n",
       "        "
      ],
      "text/plain": [
       "<IPython.lib.display.IFrame at 0x7f59202c7610>"
      ]
     },
     "metadata": {},
     "output_type": "display_data"
    },
    {
     "name": "stdout",
     "output_type": "stream",
     "text": [
      "Mustelus palumbes https://andrawaag.github.io/tarsier/jupyter_link.html?name=Mustelus palumbes\n"
     ]
    },
    {
     "data": {
      "text/html": [
       "\n",
       "        <iframe\n",
       "            width=\"700\"\n",
       "            height=\"auto\"\n",
       "            src=\"https://andrawaag.github.io/tarsier/jupyter_link.html?name=Mustelus palumbes\"\n",
       "            frameborder=\"0\"\n",
       "            allowfullscreen\n",
       "            \n",
       "        ></iframe>\n",
       "        "
      ],
      "text/plain": [
       "<IPython.lib.display.IFrame at 0x7f59202c7a00>"
      ]
     },
     "metadata": {},
     "output_type": "display_data"
    },
    {
     "name": "stdout",
     "output_type": "stream",
     "text": [
      "Squatina albipunctata https://andrawaag.github.io/tarsier/jupyter_link.html?name=Squatina albipunctata\n"
     ]
    },
    {
     "data": {
      "text/html": [
       "\n",
       "        <iframe\n",
       "            width=\"700\"\n",
       "            height=\"auto\"\n",
       "            src=\"https://andrawaag.github.io/tarsier/jupyter_link.html?name=Squatina albipunctata\"\n",
       "            frameborder=\"0\"\n",
       "            allowfullscreen\n",
       "            \n",
       "        ></iframe>\n",
       "        "
      ],
      "text/plain": [
       "<IPython.lib.display.IFrame at 0x7f59202c7fd0>"
      ]
     },
     "metadata": {},
     "output_type": "display_data"
    },
    {
     "name": "stdout",
     "output_type": "stream",
     "text": [
      "Hemiscyllium henryi https://andrawaag.github.io/tarsier/jupyter_link.html?name=Hemiscyllium henryi\n"
     ]
    },
    {
     "data": {
      "text/html": [
       "\n",
       "        <iframe\n",
       "            width=\"700\"\n",
       "            height=\"auto\"\n",
       "            src=\"https://andrawaag.github.io/tarsier/jupyter_link.html?name=Hemiscyllium henryi\"\n",
       "            frameborder=\"0\"\n",
       "            allowfullscreen\n",
       "            \n",
       "        ></iframe>\n",
       "        "
      ],
      "text/plain": [
       "<IPython.lib.display.IFrame at 0x7f59202c7e80>"
      ]
     },
     "metadata": {},
     "output_type": "display_data"
    },
    {
     "name": "stdout",
     "output_type": "stream",
     "text": [
      "Hemiscyllium michaeli https://andrawaag.github.io/tarsier/jupyter_link.html?name=Hemiscyllium michaeli\n"
     ]
    },
    {
     "data": {
      "text/html": [
       "\n",
       "        <iframe\n",
       "            width=\"700\"\n",
       "            height=\"auto\"\n",
       "            src=\"https://andrawaag.github.io/tarsier/jupyter_link.html?name=Hemiscyllium michaeli\"\n",
       "            frameborder=\"0\"\n",
       "            allowfullscreen\n",
       "            \n",
       "        ></iframe>\n",
       "        "
      ],
      "text/plain": [
       "<IPython.lib.display.IFrame at 0x7f59202c7f10>"
      ]
     },
     "metadata": {},
     "output_type": "display_data"
    },
    {
     "name": "stdout",
     "output_type": "stream",
     "text": [
      "Squatina legnota https://andrawaag.github.io/tarsier/jupyter_link.html?name=Squatina legnota\n"
     ]
    },
    {
     "data": {
      "text/html": [
       "\n",
       "        <iframe\n",
       "            width=\"700\"\n",
       "            height=\"auto\"\n",
       "            src=\"https://andrawaag.github.io/tarsier/jupyter_link.html?name=Squatina legnota\"\n",
       "            frameborder=\"0\"\n",
       "            allowfullscreen\n",
       "            \n",
       "        ></iframe>\n",
       "        "
      ],
      "text/plain": [
       "<IPython.lib.display.IFrame at 0x7f59202c7f70>"
      ]
     },
     "metadata": {},
     "output_type": "display_data"
    },
    {
     "name": "stdout",
     "output_type": "stream",
     "text": [
      "Apristurus acanutus https://andrawaag.github.io/tarsier/jupyter_link.html?name=Apristurus acanutus\n"
     ]
    },
    {
     "data": {
      "text/html": [
       "\n",
       "        <iframe\n",
       "            width=\"700\"\n",
       "            height=\"auto\"\n",
       "            src=\"https://andrawaag.github.io/tarsier/jupyter_link.html?name=Apristurus acanutus\"\n",
       "            frameborder=\"0\"\n",
       "            allowfullscreen\n",
       "            \n",
       "        ></iframe>\n",
       "        "
      ],
      "text/plain": [
       "<IPython.lib.display.IFrame at 0x7f59202c7640>"
      ]
     },
     "metadata": {},
     "output_type": "display_data"
    },
    {
     "name": "stdout",
     "output_type": "stream",
     "text": [
      "Bythaelurus immaculatus https://andrawaag.github.io/tarsier/jupyter_link.html?name=Bythaelurus immaculatus\n"
     ]
    },
    {
     "data": {
      "text/html": [
       "\n",
       "        <iframe\n",
       "            width=\"700\"\n",
       "            height=\"auto\"\n",
       "            src=\"https://andrawaag.github.io/tarsier/jupyter_link.html?name=Bythaelurus immaculatus\"\n",
       "            frameborder=\"0\"\n",
       "            allowfullscreen\n",
       "            \n",
       "        ></iframe>\n",
       "        "
      ],
      "text/plain": [
       "<IPython.lib.display.IFrame at 0x7f59202c7a00>"
      ]
     },
     "metadata": {},
     "output_type": "display_data"
    },
    {
     "name": "stdout",
     "output_type": "stream",
     "text": [
      "Apristurus nasutus https://andrawaag.github.io/tarsier/jupyter_link.html?name=Apristurus nasutus\n"
     ]
    },
    {
     "data": {
      "text/html": [
       "\n",
       "        <iframe\n",
       "            width=\"700\"\n",
       "            height=\"auto\"\n",
       "            src=\"https://andrawaag.github.io/tarsier/jupyter_link.html?name=Apristurus nasutus\"\n",
       "            frameborder=\"0\"\n",
       "            allowfullscreen\n",
       "            \n",
       "        ></iframe>\n",
       "        "
      ],
      "text/plain": [
       "<IPython.lib.display.IFrame at 0x7f59202c74c0>"
      ]
     },
     "metadata": {},
     "output_type": "display_data"
    },
    {
     "name": "stdout",
     "output_type": "stream",
     "text": [
      "Schroederichthys bivius https://andrawaag.github.io/tarsier/jupyter_link.html?name=Schroederichthys bivius\n"
     ]
    },
    {
     "data": {
      "text/html": [
       "\n",
       "        <iframe\n",
       "            width=\"700\"\n",
       "            height=\"auto\"\n",
       "            src=\"https://andrawaag.github.io/tarsier/jupyter_link.html?name=Schroederichthys bivius\"\n",
       "            frameborder=\"0\"\n",
       "            allowfullscreen\n",
       "            \n",
       "        ></iframe>\n",
       "        "
      ],
      "text/plain": [
       "<IPython.lib.display.IFrame at 0x7f59202c7610>"
      ]
     },
     "metadata": {},
     "output_type": "display_data"
    },
    {
     "name": "stdout",
     "output_type": "stream",
     "text": [
      "Squatina africana https://andrawaag.github.io/tarsier/jupyter_link.html?name=Squatina africana\n"
     ]
    },
    {
     "data": {
      "text/html": [
       "\n",
       "        <iframe\n",
       "            width=\"700\"\n",
       "            height=\"auto\"\n",
       "            src=\"https://andrawaag.github.io/tarsier/jupyter_link.html?name=Squatina africana\"\n",
       "            frameborder=\"0\"\n",
       "            allowfullscreen\n",
       "            \n",
       "        ></iframe>\n",
       "        "
      ],
      "text/plain": [
       "<IPython.lib.display.IFrame at 0x7f59202c7e80>"
      ]
     },
     "metadata": {},
     "output_type": "display_data"
    },
    {
     "name": "stdout",
     "output_type": "stream",
     "text": [
      "Apristurus sibogae https://andrawaag.github.io/tarsier/jupyter_link.html?name=Apristurus sibogae\n"
     ]
    },
    {
     "data": {
      "text/html": [
       "\n",
       "        <iframe\n",
       "            width=\"700\"\n",
       "            height=\"auto\"\n",
       "            src=\"https://andrawaag.github.io/tarsier/jupyter_link.html?name=Apristurus sibogae\"\n",
       "            frameborder=\"0\"\n",
       "            allowfullscreen\n",
       "            \n",
       "        ></iframe>\n",
       "        "
      ],
      "text/plain": [
       "<IPython.lib.display.IFrame at 0x7f59202c74c0>"
      ]
     },
     "metadata": {},
     "output_type": "display_data"
    },
    {
     "name": "stdout",
     "output_type": "stream",
     "text": [
      "Etmopterus decacuspidatus https://andrawaag.github.io/tarsier/jupyter_link.html?name=Etmopterus decacuspidatus\n"
     ]
    },
    {
     "data": {
      "text/html": [
       "\n",
       "        <iframe\n",
       "            width=\"700\"\n",
       "            height=\"auto\"\n",
       "            src=\"https://andrawaag.github.io/tarsier/jupyter_link.html?name=Etmopterus decacuspidatus\"\n",
       "            frameborder=\"0\"\n",
       "            allowfullscreen\n",
       "            \n",
       "        ></iframe>\n",
       "        "
      ],
      "text/plain": [
       "<IPython.lib.display.IFrame at 0x7f59202c7640>"
      ]
     },
     "metadata": {},
     "output_type": "display_data"
    },
    {
     "name": "stdout",
     "output_type": "stream",
     "text": [
      "Aculeola nigra https://andrawaag.github.io/tarsier/jupyter_link.html?name=Aculeola nigra\n"
     ]
    },
    {
     "data": {
      "text/html": [
       "\n",
       "        <iframe\n",
       "            width=\"700\"\n",
       "            height=\"auto\"\n",
       "            src=\"https://andrawaag.github.io/tarsier/jupyter_link.html?name=Aculeola nigra\"\n",
       "            frameborder=\"0\"\n",
       "            allowfullscreen\n",
       "            \n",
       "        ></iframe>\n",
       "        "
      ],
      "text/plain": [
       "<IPython.lib.display.IFrame at 0x7f59202c7fd0>"
      ]
     },
     "metadata": {},
     "output_type": "display_data"
    },
    {
     "name": "stdout",
     "output_type": "stream",
     "text": [
      "Scyliorhinus boa https://andrawaag.github.io/tarsier/jupyter_link.html?name=Scyliorhinus boa\n"
     ]
    },
    {
     "data": {
      "text/html": [
       "\n",
       "        <iframe\n",
       "            width=\"700\"\n",
       "            height=\"auto\"\n",
       "            src=\"https://andrawaag.github.io/tarsier/jupyter_link.html?name=Scyliorhinus boa\"\n",
       "            frameborder=\"0\"\n",
       "            allowfullscreen\n",
       "            \n",
       "        ></iframe>\n",
       "        "
      ],
      "text/plain": [
       "<IPython.lib.display.IFrame at 0x7f59205e58b0>"
      ]
     },
     "metadata": {},
     "output_type": "display_data"
    },
    {
     "name": "stdout",
     "output_type": "stream",
     "text": [
      "Schroederichthys maculatus https://andrawaag.github.io/tarsier/jupyter_link.html?name=Schroederichthys maculatus\n"
     ]
    },
    {
     "data": {
      "text/html": [
       "\n",
       "        <iframe\n",
       "            width=\"700\"\n",
       "            height=\"auto\"\n",
       "            src=\"https://andrawaag.github.io/tarsier/jupyter_link.html?name=Schroederichthys maculatus\"\n",
       "            frameborder=\"0\"\n",
       "            allowfullscreen\n",
       "            \n",
       "        ></iframe>\n",
       "        "
      ],
      "text/plain": [
       "<IPython.lib.display.IFrame at 0x7f59202c7310>"
      ]
     },
     "metadata": {},
     "output_type": "display_data"
    },
    {
     "name": "stdout",
     "output_type": "stream",
     "text": [
      "Squatina aculeata https://andrawaag.github.io/tarsier/jupyter_link.html?name=Squatina aculeata\n"
     ]
    },
    {
     "data": {
      "text/html": [
       "\n",
       "        <iframe\n",
       "            width=\"700\"\n",
       "            height=\"auto\"\n",
       "            src=\"https://andrawaag.github.io/tarsier/jupyter_link.html?name=Squatina aculeata\"\n",
       "            frameborder=\"0\"\n",
       "            allowfullscreen\n",
       "            \n",
       "        ></iframe>\n",
       "        "
      ],
      "text/plain": [
       "<IPython.lib.display.IFrame at 0x7f59202c7f70>"
      ]
     },
     "metadata": {},
     "output_type": "display_data"
    },
    {
     "name": "stdout",
     "output_type": "stream",
     "text": [
      "Cirrhoscyllium expolitum https://andrawaag.github.io/tarsier/jupyter_link.html?name=Cirrhoscyllium expolitum\n"
     ]
    },
    {
     "data": {
      "text/html": [
       "\n",
       "        <iframe\n",
       "            width=\"700\"\n",
       "            height=\"auto\"\n",
       "            src=\"https://andrawaag.github.io/tarsier/jupyter_link.html?name=Cirrhoscyllium expolitum\"\n",
       "            frameborder=\"0\"\n",
       "            allowfullscreen\n",
       "            \n",
       "        ></iframe>\n",
       "        "
      ],
      "text/plain": [
       "<IPython.lib.display.IFrame at 0x7f59202c7430>"
      ]
     },
     "metadata": {},
     "output_type": "display_data"
    },
    {
     "name": "stdout",
     "output_type": "stream",
     "text": [
      "Mustelus stevensi https://andrawaag.github.io/tarsier/jupyter_link.html?name=Mustelus stevensi\n"
     ]
    },
    {
     "data": {
      "text/html": [
       "\n",
       "        <iframe\n",
       "            width=\"700\"\n",
       "            height=\"auto\"\n",
       "            src=\"https://andrawaag.github.io/tarsier/jupyter_link.html?name=Mustelus stevensi\"\n",
       "            frameborder=\"0\"\n",
       "            allowfullscreen\n",
       "            \n",
       "        ></iframe>\n",
       "        "
      ],
      "text/plain": [
       "<IPython.lib.display.IFrame at 0x7f59202c7f10>"
      ]
     },
     "metadata": {},
     "output_type": "display_data"
    },
    {
     "name": "stdout",
     "output_type": "stream",
     "text": [
      "Parmaturus albimarginatus https://andrawaag.github.io/tarsier/jupyter_link.html?name=Parmaturus albimarginatus\n"
     ]
    },
    {
     "data": {
      "text/html": [
       "\n",
       "        <iframe\n",
       "            width=\"700\"\n",
       "            height=\"auto\"\n",
       "            src=\"https://andrawaag.github.io/tarsier/jupyter_link.html?name=Parmaturus albimarginatus\"\n",
       "            frameborder=\"0\"\n",
       "            allowfullscreen\n",
       "            \n",
       "        ></iframe>\n",
       "        "
      ],
      "text/plain": [
       "<IPython.lib.display.IFrame at 0x7f59202c7310>"
      ]
     },
     "metadata": {},
     "output_type": "display_data"
    },
    {
     "name": "stdout",
     "output_type": "stream",
     "text": [
      "Etmopterus brachyurus https://andrawaag.github.io/tarsier/jupyter_link.html?name=Etmopterus brachyurus\n"
     ]
    },
    {
     "data": {
      "text/html": [
       "\n",
       "        <iframe\n",
       "            width=\"700\"\n",
       "            height=\"auto\"\n",
       "            src=\"https://andrawaag.github.io/tarsier/jupyter_link.html?name=Etmopterus brachyurus\"\n",
       "            frameborder=\"0\"\n",
       "            allowfullscreen\n",
       "            \n",
       "        ></iframe>\n",
       "        "
      ],
      "text/plain": [
       "<IPython.lib.display.IFrame at 0x7f59202c7310>"
      ]
     },
     "metadata": {},
     "output_type": "display_data"
    },
    {
     "name": "stdout",
     "output_type": "stream",
     "text": [
      "Mustelus fasciatus https://andrawaag.github.io/tarsier/jupyter_link.html?name=Mustelus fasciatus\n"
     ]
    },
    {
     "data": {
      "text/html": [
       "\n",
       "        <iframe\n",
       "            width=\"700\"\n",
       "            height=\"auto\"\n",
       "            src=\"https://andrawaag.github.io/tarsier/jupyter_link.html?name=Mustelus fasciatus\"\n",
       "            frameborder=\"0\"\n",
       "            allowfullscreen\n",
       "            \n",
       "        ></iframe>\n",
       "        "
      ],
      "text/plain": [
       "<IPython.lib.display.IFrame at 0x7f59202c7fd0>"
      ]
     },
     "metadata": {},
     "output_type": "display_data"
    },
    {
     "name": "stdout",
     "output_type": "stream",
     "text": [
      "Parascyllium sparsimaculatum https://andrawaag.github.io/tarsier/jupyter_link.html?name=Parascyllium sparsimaculatum\n"
     ]
    },
    {
     "data": {
      "text/html": [
       "\n",
       "        <iframe\n",
       "            width=\"700\"\n",
       "            height=\"auto\"\n",
       "            src=\"https://andrawaag.github.io/tarsier/jupyter_link.html?name=Parascyllium sparsimaculatum\"\n",
       "            frameborder=\"0\"\n",
       "            allowfullscreen\n",
       "            \n",
       "        ></iframe>\n",
       "        "
      ],
      "text/plain": [
       "<IPython.lib.display.IFrame at 0x7f59202c7f70>"
      ]
     },
     "metadata": {},
     "output_type": "display_data"
    },
    {
     "name": "stdout",
     "output_type": "stream",
     "text": [
      "Hemiscyllium galei https://andrawaag.github.io/tarsier/jupyter_link.html?name=Hemiscyllium galei\n"
     ]
    },
    {
     "data": {
      "text/html": [
       "\n",
       "        <iframe\n",
       "            width=\"700\"\n",
       "            height=\"auto\"\n",
       "            src=\"https://andrawaag.github.io/tarsier/jupyter_link.html?name=Hemiscyllium galei\"\n",
       "            frameborder=\"0\"\n",
       "            allowfullscreen\n",
       "            \n",
       "        ></iframe>\n",
       "        "
      ],
      "text/plain": [
       "<IPython.lib.display.IFrame at 0x7f59202c7e80>"
      ]
     },
     "metadata": {},
     "output_type": "display_data"
    },
    {
     "name": "stdout",
     "output_type": "stream",
     "text": [
      "Pristiophorus nancyae https://andrawaag.github.io/tarsier/jupyter_link.html?name=Pristiophorus nancyae\n"
     ]
    },
    {
     "data": {
      "text/html": [
       "\n",
       "        <iframe\n",
       "            width=\"700\"\n",
       "            height=\"auto\"\n",
       "            src=\"https://andrawaag.github.io/tarsier/jupyter_link.html?name=Pristiophorus nancyae\"\n",
       "            frameborder=\"0\"\n",
       "            allowfullscreen\n",
       "            \n",
       "        ></iframe>\n",
       "        "
      ],
      "text/plain": [
       "<IPython.lib.display.IFrame at 0x7f59202c7a00>"
      ]
     },
     "metadata": {},
     "output_type": "display_data"
    },
    {
     "name": "stdout",
     "output_type": "stream",
     "text": [
      "Squatina formosa https://andrawaag.github.io/tarsier/jupyter_link.html?name=Squatina formosa\n"
     ]
    },
    {
     "data": {
      "text/html": [
       "\n",
       "        <iframe\n",
       "            width=\"700\"\n",
       "            height=\"auto\"\n",
       "            src=\"https://andrawaag.github.io/tarsier/jupyter_link.html?name=Squatina formosa\"\n",
       "            frameborder=\"0\"\n",
       "            allowfullscreen\n",
       "            \n",
       "        ></iframe>\n",
       "        "
      ],
      "text/plain": [
       "<IPython.lib.display.IFrame at 0x7f59202c7f70>"
      ]
     },
     "metadata": {},
     "output_type": "display_data"
    },
    {
     "name": "stdout",
     "output_type": "stream",
     "text": [
      "Apristurus japonicus https://andrawaag.github.io/tarsier/jupyter_link.html?name=Apristurus japonicus\n"
     ]
    },
    {
     "data": {
      "text/html": [
       "\n",
       "        <iframe\n",
       "            width=\"700\"\n",
       "            height=\"auto\"\n",
       "            src=\"https://andrawaag.github.io/tarsier/jupyter_link.html?name=Apristurus japonicus\"\n",
       "            frameborder=\"0\"\n",
       "            allowfullscreen\n",
       "            \n",
       "        ></iframe>\n",
       "        "
      ],
      "text/plain": [
       "<IPython.lib.display.IFrame at 0x7f59202c7310>"
      ]
     },
     "metadata": {},
     "output_type": "display_data"
    },
    {
     "name": "stdout",
     "output_type": "stream",
     "text": [
      "Schroederichthys tenuis https://andrawaag.github.io/tarsier/jupyter_link.html?name=Schroederichthys tenuis\n"
     ]
    },
    {
     "data": {
      "text/html": [
       "\n",
       "        <iframe\n",
       "            width=\"700\"\n",
       "            height=\"auto\"\n",
       "            src=\"https://andrawaag.github.io/tarsier/jupyter_link.html?name=Schroederichthys tenuis\"\n",
       "            frameborder=\"0\"\n",
       "            allowfullscreen\n",
       "            \n",
       "        ></iframe>\n",
       "        "
      ],
      "text/plain": [
       "<IPython.lib.display.IFrame at 0x7f59202c7a00>"
      ]
     },
     "metadata": {},
     "output_type": "display_data"
    },
    {
     "name": "stdout",
     "output_type": "stream",
     "text": [
      "Apristurus parvipinnis https://andrawaag.github.io/tarsier/jupyter_link.html?name=Apristurus parvipinnis\n"
     ]
    },
    {
     "data": {
      "text/html": [
       "\n",
       "        <iframe\n",
       "            width=\"700\"\n",
       "            height=\"auto\"\n",
       "            src=\"https://andrawaag.github.io/tarsier/jupyter_link.html?name=Apristurus parvipinnis\"\n",
       "            frameborder=\"0\"\n",
       "            allowfullscreen\n",
       "            \n",
       "        ></iframe>\n",
       "        "
      ],
      "text/plain": [
       "<IPython.lib.display.IFrame at 0x7f59202c7e80>"
      ]
     },
     "metadata": {},
     "output_type": "display_data"
    },
    {
     "name": "stdout",
     "output_type": "stream",
     "text": [
      "Schroederichthys chilensis https://andrawaag.github.io/tarsier/jupyter_link.html?name=Schroederichthys chilensis\n"
     ]
    },
    {
     "data": {
      "text/html": [
       "\n",
       "        <iframe\n",
       "            width=\"700\"\n",
       "            height=\"auto\"\n",
       "            src=\"https://andrawaag.github.io/tarsier/jupyter_link.html?name=Schroederichthys chilensis\"\n",
       "            frameborder=\"0\"\n",
       "            allowfullscreen\n",
       "            \n",
       "        ></iframe>\n",
       "        "
      ],
      "text/plain": [
       "<IPython.lib.display.IFrame at 0x7f59202c7f70>"
      ]
     },
     "metadata": {},
     "output_type": "display_data"
    },
    {
     "name": "stdout",
     "output_type": "stream",
     "text": [
      "Parascyllium elongatum https://andrawaag.github.io/tarsier/jupyter_link.html?name=Parascyllium elongatum\n"
     ]
    },
    {
     "data": {
      "text/html": [
       "\n",
       "        <iframe\n",
       "            width=\"700\"\n",
       "            height=\"auto\"\n",
       "            src=\"https://andrawaag.github.io/tarsier/jupyter_link.html?name=Parascyllium elongatum\"\n",
       "            frameborder=\"0\"\n",
       "            allowfullscreen\n",
       "            \n",
       "        ></iframe>\n",
       "        "
      ],
      "text/plain": [
       "<IPython.lib.display.IFrame at 0x7f59202c7fd0>"
      ]
     },
     "metadata": {},
     "output_type": "display_data"
    },
    {
     "name": "stdout",
     "output_type": "stream",
     "text": [
      "Apristurus microps https://andrawaag.github.io/tarsier/jupyter_link.html?name=Apristurus microps\n"
     ]
    },
    {
     "data": {
      "text/html": [
       "\n",
       "        <iframe\n",
       "            width=\"700\"\n",
       "            height=\"auto\"\n",
       "            src=\"https://andrawaag.github.io/tarsier/jupyter_link.html?name=Apristurus microps\"\n",
       "            frameborder=\"0\"\n",
       "            allowfullscreen\n",
       "            \n",
       "        ></iframe>\n",
       "        "
      ],
      "text/plain": [
       "<IPython.lib.display.IFrame at 0x7f59202c7e20>"
      ]
     },
     "metadata": {},
     "output_type": "display_data"
    },
    {
     "name": "stdout",
     "output_type": "stream",
     "text": [
      "Halaelurus boesemani https://andrawaag.github.io/tarsier/jupyter_link.html?name=Halaelurus boesemani\n"
     ]
    },
    {
     "data": {
      "text/html": [
       "\n",
       "        <iframe\n",
       "            width=\"700\"\n",
       "            height=\"auto\"\n",
       "            src=\"https://andrawaag.github.io/tarsier/jupyter_link.html?name=Halaelurus boesemani\"\n",
       "            frameborder=\"0\"\n",
       "            allowfullscreen\n",
       "            \n",
       "        ></iframe>\n",
       "        "
      ],
      "text/plain": [
       "<IPython.lib.display.IFrame at 0x7f59202c7610>"
      ]
     },
     "metadata": {},
     "output_type": "display_data"
    },
    {
     "name": "stdout",
     "output_type": "stream",
     "text": [
      "Squatina argentina https://andrawaag.github.io/tarsier/jupyter_link.html?name=Squatina argentina\n"
     ]
    },
    {
     "data": {
      "text/html": [
       "\n",
       "        <iframe\n",
       "            width=\"700\"\n",
       "            height=\"auto\"\n",
       "            src=\"https://andrawaag.github.io/tarsier/jupyter_link.html?name=Squatina argentina\"\n",
       "            frameborder=\"0\"\n",
       "            allowfullscreen\n",
       "            \n",
       "        ></iframe>\n",
       "        "
      ],
      "text/plain": [
       "<IPython.lib.display.IFrame at 0x7f59202c7640>"
      ]
     },
     "metadata": {},
     "output_type": "display_data"
    },
    {
     "name": "stdout",
     "output_type": "stream",
     "text": [
      "Hemiscyllium strahani https://andrawaag.github.io/tarsier/jupyter_link.html?name=Hemiscyllium strahani\n"
     ]
    },
    {
     "data": {
      "text/html": [
       "\n",
       "        <iframe\n",
       "            width=\"700\"\n",
       "            height=\"auto\"\n",
       "            src=\"https://andrawaag.github.io/tarsier/jupyter_link.html?name=Hemiscyllium strahani\"\n",
       "            frameborder=\"0\"\n",
       "            allowfullscreen\n",
       "            \n",
       "        ></iframe>\n",
       "        "
      ],
      "text/plain": [
       "<IPython.lib.display.IFrame at 0x7f59202c74c0>"
      ]
     },
     "metadata": {},
     "output_type": "display_data"
    },
    {
     "name": "stdout",
     "output_type": "stream",
     "text": [
      "Parmaturus albipenis https://andrawaag.github.io/tarsier/jupyter_link.html?name=Parmaturus albipenis\n"
     ]
    },
    {
     "data": {
      "text/html": [
       "\n",
       "        <iframe\n",
       "            width=\"700\"\n",
       "            height=\"auto\"\n",
       "            src=\"https://andrawaag.github.io/tarsier/jupyter_link.html?name=Parmaturus albipenis\"\n",
       "            frameborder=\"0\"\n",
       "            allowfullscreen\n",
       "            \n",
       "        ></iframe>\n",
       "        "
      ],
      "text/plain": [
       "<IPython.lib.display.IFrame at 0x7f59202c7f10>"
      ]
     },
     "metadata": {},
     "output_type": "display_data"
    },
    {
     "name": "stdout",
     "output_type": "stream",
     "text": [
      "Hemitriakis leucoperiptera https://andrawaag.github.io/tarsier/jupyter_link.html?name=Hemitriakis leucoperiptera\n"
     ]
    },
    {
     "data": {
      "text/html": [
       "\n",
       "        <iframe\n",
       "            width=\"700\"\n",
       "            height=\"auto\"\n",
       "            src=\"https://andrawaag.github.io/tarsier/jupyter_link.html?name=Hemitriakis leucoperiptera\"\n",
       "            frameborder=\"0\"\n",
       "            allowfullscreen\n",
       "            \n",
       "        ></iframe>\n",
       "        "
      ],
      "text/plain": [
       "<IPython.lib.display.IFrame at 0x7f59202c7af0>"
      ]
     },
     "metadata": {},
     "output_type": "display_data"
    },
    {
     "name": "stdout",
     "output_type": "stream",
     "text": [
      "Apristurus kampae https://andrawaag.github.io/tarsier/jupyter_link.html?name=Apristurus kampae\n"
     ]
    },
    {
     "data": {
      "text/html": [
       "\n",
       "        <iframe\n",
       "            width=\"700\"\n",
       "            height=\"auto\"\n",
       "            src=\"https://andrawaag.github.io/tarsier/jupyter_link.html?name=Apristurus kampae\"\n",
       "            frameborder=\"0\"\n",
       "            allowfullscreen\n",
       "            \n",
       "        ></iframe>\n",
       "        "
      ],
      "text/plain": [
       "<IPython.lib.display.IFrame at 0x7f59202c7e20>"
      ]
     },
     "metadata": {},
     "output_type": "display_data"
    },
    {
     "name": "stdout",
     "output_type": "stream",
     "text": [
      "Apristurus riveri https://andrawaag.github.io/tarsier/jupyter_link.html?name=Apristurus riveri\n"
     ]
    },
    {
     "data": {
      "text/html": [
       "\n",
       "        <iframe\n",
       "            width=\"700\"\n",
       "            height=\"auto\"\n",
       "            src=\"https://andrawaag.github.io/tarsier/jupyter_link.html?name=Apristurus riveri\"\n",
       "            frameborder=\"0\"\n",
       "            allowfullscreen\n",
       "            \n",
       "        ></iframe>\n",
       "        "
      ],
      "text/plain": [
       "<IPython.lib.display.IFrame at 0x7f59202c7f10>"
      ]
     },
     "metadata": {},
     "output_type": "display_data"
    },
    {
     "name": "stdout",
     "output_type": "stream",
     "text": [
      "Apristurus herklotsi https://andrawaag.github.io/tarsier/jupyter_link.html?name=Apristurus herklotsi\n"
     ]
    },
    {
     "data": {
      "text/html": [
       "\n",
       "        <iframe\n",
       "            width=\"700\"\n",
       "            height=\"auto\"\n",
       "            src=\"https://andrawaag.github.io/tarsier/jupyter_link.html?name=Apristurus herklotsi\"\n",
       "            frameborder=\"0\"\n",
       "            allowfullscreen\n",
       "            \n",
       "        ></iframe>\n",
       "        "
      ],
      "text/plain": [
       "<IPython.lib.display.IFrame at 0x7f59202c7e80>"
      ]
     },
     "metadata": {},
     "output_type": "display_data"
    },
    {
     "name": "stdout",
     "output_type": "stream",
     "text": [
      "Scyliorhinus cervigoni https://andrawaag.github.io/tarsier/jupyter_link.html?name=Scyliorhinus cervigoni\n"
     ]
    },
    {
     "data": {
      "text/html": [
       "\n",
       "        <iframe\n",
       "            width=\"700\"\n",
       "            height=\"auto\"\n",
       "            src=\"https://andrawaag.github.io/tarsier/jupyter_link.html?name=Scyliorhinus cervigoni\"\n",
       "            frameborder=\"0\"\n",
       "            allowfullscreen\n",
       "            \n",
       "        ></iframe>\n",
       "        "
      ],
      "text/plain": [
       "<IPython.lib.display.IFrame at 0x7f59202c7640>"
      ]
     },
     "metadata": {},
     "output_type": "display_data"
    },
    {
     "name": "stdout",
     "output_type": "stream",
     "text": [
      "Parmaturus campechiensis https://andrawaag.github.io/tarsier/jupyter_link.html?name=Parmaturus campechiensis\n"
     ]
    },
    {
     "data": {
      "text/html": [
       "\n",
       "        <iframe\n",
       "            width=\"700\"\n",
       "            height=\"auto\"\n",
       "            src=\"https://andrawaag.github.io/tarsier/jupyter_link.html?name=Parmaturus campechiensis\"\n",
       "            frameborder=\"0\"\n",
       "            allowfullscreen\n",
       "            \n",
       "        ></iframe>\n",
       "        "
      ],
      "text/plain": [
       "<IPython.lib.display.IFrame at 0x7f59202c7f10>"
      ]
     },
     "metadata": {},
     "output_type": "display_data"
    }
   ],
   "source": [
    "from IPython.display import display, IFrame\n",
    "for index, row in df.iterrows():\n",
    "    print(row[\"taxonname\"], row[\"tarsier\"])\n",
    "    display(IFrame(src=row[\"tarsier\"], width=700, height=\"auto\"))"
   ]
  }
 ],
 "metadata": {
  "kernelspec": {
   "display_name": "Python 3 (ipykernel)",
   "language": "python",
   "name": "python3"
  },
  "language_info": {
   "codemirror_mode": {
    "name": "ipython",
    "version": 3
   },
   "file_extension": ".py",
   "mimetype": "text/x-python",
   "name": "python",
   "nbconvert_exporter": "python",
   "pygments_lexer": "ipython3",
   "version": "3.8.10"
  }
 },
 "nbformat": 4,
 "nbformat_minor": 5
}
